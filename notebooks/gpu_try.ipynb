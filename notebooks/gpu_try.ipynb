{
 "cells": [
  {
   "cell_type": "code",
   "execution_count": 17,
   "metadata": {},
   "outputs": [],
   "source": [
    "import tensorflow as tf\n",
    "sess = tf.Session(config=tf.ConfigProto(log_device_placement=True))"
   ]
  },
  {
   "cell_type": "code",
   "execution_count": 9,
   "metadata": {},
   "outputs": [],
   "source": [
    "import pandas as pd\n",
    "import numpy as np\n",
    "df = pd.read_csv('../table/train_object.csv')"
   ]
  },
  {
   "cell_type": "code",
   "execution_count": 10,
   "metadata": {},
   "outputs": [
    {
     "name": "stdout",
     "output_type": "stream",
     "text": [
      "audio features 512\n",
      "video features 1000\n"
     ]
    }
   ],
   "source": [
    "audio_features = list(filter(lambda x:'audio' in x, df.keys()))\n",
    "print('audio features', len(audio_features))\n",
    "\n",
    "video_features = list(filter(lambda x:'video' in x, df.keys()))\n",
    "print('video features', len(video_features))"
   ]
  },
  {
   "cell_type": "code",
   "execution_count": 11,
   "metadata": {},
   "outputs": [],
   "source": [
    "features = audio_features + video_features"
   ]
  },
  {
   "cell_type": "code",
   "execution_count": 12,
   "metadata": {},
   "outputs": [
    {
     "data": {
      "text/plain": [
       "(151519, 1518)"
      ]
     },
     "execution_count": 12,
     "metadata": {},
     "output_type": "execute_result"
    }
   ],
   "source": [
    "df.shape"
   ]
  },
  {
   "cell_type": "code",
   "execution_count": 15,
   "metadata": {},
   "outputs": [
    {
     "data": {
      "text/plain": [
       "False    76000\n",
       "True     75519\n",
       "Name: y_id, dtype: int64"
      ]
     },
     "execution_count": 15,
     "metadata": {},
     "output_type": "execute_result"
    }
   ],
   "source": [
    "df['y_id'] = df['y']>=1\n",
    "df['y_id'].value_counts()"
   ]
  },
  {
   "cell_type": "code",
   "execution_count": 16,
   "metadata": {},
   "outputs": [],
   "source": [
    "X = df[features].get_values()\n",
    "y = df['y_id'].get_values()"
   ]
  },
  {
   "cell_type": "code",
   "execution_count": 88,
   "metadata": {},
   "outputs": [],
   "source": [
    "# import pandas as pd\n",
    "# import numpy as np\n",
    "# from keras.models import Sequential\n",
    "# from keras.layers import Dense\n",
    "# np.random.seed(7)\n",
    "\n",
    "\n",
    "# input_shape = len(features)\n",
    "# output_shape = 1\n",
    "\n",
    "# model = Sequential()\n",
    "# model.add(Dense(1024, input_dim=input_shape, activation='relu'))\n",
    "# model.add(Dense(512, activation='relu'))\n",
    "# model.add(Dense(256, activation='relu'))\n",
    "# model.add(Dense(64, activation='relu'))\n",
    "# model.add(Dense(output_shape, activation='sigmoid'))\n",
    "# model.compile(loss='binary_crossentropy', optimizer='adam', metrics=['accuracy'])"
   ]
  },
  {
   "cell_type": "code",
   "execution_count": 87,
   "metadata": {},
   "outputs": [],
   "source": [
    "# model.fit(X, y)"
   ]
  },
  {
   "cell_type": "code",
   "execution_count": 89,
   "metadata": {},
   "outputs": [],
   "source": [
    "from keras.models import load_model\n",
    "model = load_model('final_model.h5')"
   ]
  },
  {
   "cell_type": "code",
   "execution_count": 90,
   "metadata": {},
   "outputs": [
    {
     "data": {
      "application/vnd.jupyter.widget-view+json": {
       "model_id": "cb9abd74f48f4358a67b092c7fc7ece8",
       "version_major": 2,
       "version_minor": 0
      },
      "text/plain": [
       "HBox(children=(IntProgress(value=0, max=148), HTML(value='')))"
      ]
     },
     "metadata": {},
     "output_type": "display_data"
    },
    {
     "name": "stdout",
     "output_type": "stream",
     "text": [
      "\n"
     ]
    }
   ],
   "source": [
    "from tqdm import tqdm_notebook\n",
    "def get_predictions(model, X, batch_size = 1024):\n",
    "    y_predict = []\n",
    "    for ind in tqdm_notebook(range(int(X.shape[0]/batch_size)+1)):\n",
    "        #print(model.predict_proba(X[ind*batch_size : (ind+1)*batch_size]))\n",
    "        y_predict.extend(model.predict_proba(X[ind*batch_size : \n",
    "                                               min((ind+1)*batch_size, X.shape[0])]\n",
    "                                            )[:,0]\n",
    "                        )\n",
    "    return y_predict\n",
    "\n",
    "y_predict = get_predictions(model, X, batch_size=1024)"
   ]
  },
  {
   "cell_type": "code",
   "execution_count": 97,
   "metadata": {},
   "outputs": [
    {
     "data": {
      "text/html": [
       "<div>\n",
       "<style scoped>\n",
       "    .dataframe tbody tr th:only-of-type {\n",
       "        vertical-align: middle;\n",
       "    }\n",
       "\n",
       "    .dataframe tbody tr th {\n",
       "        vertical-align: top;\n",
       "    }\n",
       "\n",
       "    .dataframe thead th {\n",
       "        text-align: right;\n",
       "    }\n",
       "</style>\n",
       "<table border=\"1\" class=\"dataframe\">\n",
       "  <thead>\n",
       "    <tr style=\"text-align: right;\">\n",
       "      <th></th>\n",
       "      <th>Unnamed: 0</th>\n",
       "      <th>IDu</th>\n",
       "      <th>audio_0</th>\n",
       "      <th>audio_1</th>\n",
       "      <th>audio_10</th>\n",
       "      <th>audio_100</th>\n",
       "      <th>audio_101</th>\n",
       "      <th>audio_102</th>\n",
       "      <th>audio_103</th>\n",
       "      <th>audio_104</th>\n",
       "      <th>...</th>\n",
       "      <th>video_994</th>\n",
       "      <th>video_995</th>\n",
       "      <th>video_996</th>\n",
       "      <th>video_997</th>\n",
       "      <th>video_998</th>\n",
       "      <th>video_999</th>\n",
       "      <th>idu2</th>\n",
       "      <th>y</th>\n",
       "      <th>y_id</th>\n",
       "      <th>p_id</th>\n",
       "    </tr>\n",
       "  </thead>\n",
       "  <tbody>\n",
       "    <tr>\n",
       "      <th>0</th>\n",
       "      <td>0</td>\n",
       "      <td>-JfEJq56IwI0044</td>\n",
       "      <td>1.37962</td>\n",
       "      <td>0.623667</td>\n",
       "      <td>0.459552</td>\n",
       "      <td>0.131612</td>\n",
       "      <td>-0.117128</td>\n",
       "      <td>1.378955</td>\n",
       "      <td>0.300299</td>\n",
       "      <td>0.956826</td>\n",
       "      <td>...</td>\n",
       "      <td>1.353371e-06</td>\n",
       "      <td>0.000004</td>\n",
       "      <td>0.000005</td>\n",
       "      <td>9.585499e-07</td>\n",
       "      <td>0.000011</td>\n",
       "      <td>0.000206</td>\n",
       "      <td>-JfEJq56IwI0101</td>\n",
       "      <td>1</td>\n",
       "      <td>True</td>\n",
       "      <td>1.0</td>\n",
       "    </tr>\n",
       "    <tr>\n",
       "      <th>1</th>\n",
       "      <td>1</td>\n",
       "      <td>-JfEJq56IwI0044</td>\n",
       "      <td>1.37962</td>\n",
       "      <td>0.623667</td>\n",
       "      <td>0.459552</td>\n",
       "      <td>0.131612</td>\n",
       "      <td>-0.117128</td>\n",
       "      <td>1.378955</td>\n",
       "      <td>0.300299</td>\n",
       "      <td>0.956826</td>\n",
       "      <td>...</td>\n",
       "      <td>3.342150e-07</td>\n",
       "      <td>0.000001</td>\n",
       "      <td>0.000002</td>\n",
       "      <td>2.555071e-07</td>\n",
       "      <td>0.000002</td>\n",
       "      <td>0.000529</td>\n",
       "      <td>-JfEJq56IwI0068</td>\n",
       "      <td>1</td>\n",
       "      <td>True</td>\n",
       "      <td>1.0</td>\n",
       "    </tr>\n",
       "  </tbody>\n",
       "</table>\n",
       "<p>2 rows × 1520 columns</p>\n",
       "</div>"
      ],
      "text/plain": [
       "   Unnamed: 0              IDu  audio_0   audio_1  audio_10  audio_100  \\\n",
       "0           0  -JfEJq56IwI0044  1.37962  0.623667  0.459552   0.131612   \n",
       "1           1  -JfEJq56IwI0044  1.37962  0.623667  0.459552   0.131612   \n",
       "\n",
       "   audio_101  audio_102  audio_103  audio_104  ...     video_994  video_995  \\\n",
       "0  -0.117128   1.378955   0.300299   0.956826  ...  1.353371e-06   0.000004   \n",
       "1  -0.117128   1.378955   0.300299   0.956826  ...  3.342150e-07   0.000001   \n",
       "\n",
       "   video_996     video_997  video_998  video_999             idu2  y  y_id  \\\n",
       "0   0.000005  9.585499e-07   0.000011   0.000206  -JfEJq56IwI0101  1  True   \n",
       "1   0.000002  2.555071e-07   0.000002   0.000529  -JfEJq56IwI0068  1  True   \n",
       "\n",
       "   p_id  \n",
       "0   1.0  \n",
       "1   1.0  \n",
       "\n",
       "[2 rows x 1520 columns]"
      ]
     },
     "execution_count": 97,
     "metadata": {},
     "output_type": "execute_result"
    }
   ],
   "source": [
    "df[:2].head()"
   ]
  },
  {
   "cell_type": "code",
   "execution_count": 95,
   "metadata": {},
   "outputs": [
    {
     "data": {
      "text/plain": [
       "array([[1.],\n",
       "       [1.]], dtype=float32)"
      ]
     },
     "execution_count": 95,
     "metadata": {},
     "output_type": "execute_result"
    }
   ],
   "source": [
    "model.predict(df[features][:2].get_values())"
   ]
  },
  {
   "cell_type": "code",
   "execution_count": 91,
   "metadata": {},
   "outputs": [],
   "source": [
    "df['p_id'] = y_predict"
   ]
  },
  {
   "cell_type": "code",
   "execution_count": 92,
   "metadata": {},
   "outputs": [
    {
     "data": {
      "image/png": "[encoded data removed]",
      "text/plain": [
       "<Figure size 1440x720 with 1 Axes>"
      ]
     },
     "metadata": {
      "needs_background": "light"
     },
     "output_type": "display_data"
    }
   ],
   "source": [
    "from matplotlib import pyplot as plt\n",
    "%matplotlib inline\n",
    "plt.figure(figsize = (20, 10))\n",
    "plt.title('Probabilities')\n",
    "plt.hist(df['p_id'], bins = 100, alpha = 0.5, label = 'all')\n",
    "plt.hist(df[df['y_id']==1]['p_id'], bins = 100, alpha = 0.5, label = 'y=1')\n",
    "plt.hist(df[df['y_id']==0]['p_id'], bins = 100, alpha = 0.5, label = 'y=0')\n",
    "\n",
    "plt.legend()\n",
    "plt.show()"
   ]
  },
  {
   "cell_type": "code",
   "execution_count": null,
   "metadata": {},
   "outputs": [],
   "source": []
  },
  {
   "cell_type": "code",
   "execution_count": 49,
   "metadata": {},
   "outputs": [
    {
     "name": "stdout",
     "output_type": "stream",
     "text": [
      "classification_report\n",
      "              precision    recall  f1-score   support\n",
      "\n",
      "       False       0.55      0.84      0.66     76000\n",
      "        True       0.65      0.30      0.41     75519\n",
      "\n",
      "   micro avg       0.57      0.57      0.57    151519\n",
      "   macro avg       0.60      0.57      0.54    151519\n",
      "weighted avg       0.60      0.57      0.54    151519\n",
      "\n",
      "\n",
      "confusion_matrix\n",
      "[[0.42069971 0.08088755]\n",
      " [0.34714458 0.15126816]]\n",
      "\n",
      "cohen_kappa_score       0.1425\n",
      "\n",
      "accuracy_score          0.5720\n",
      "\n",
      "precision_score         0.6516\n",
      "\n",
      "recall_score            0.3035\n",
      "\n",
      "roc-auc score           0.5711\n",
      "\n",
      "precision-recall score 0.5449\n"
     ]
    }
   ],
   "source": [
    "# for res in df['']\n",
    "def get_all_classification_metrics(y_truth, prob):\n",
    "    from sklearn.metrics import classification_report, confusion_matrix, cohen_kappa_score,\\\n",
    "                                accuracy_score, precision_score, recall_score,\\\n",
    "                                average_precision_score, roc_auc_score\n",
    "\n",
    "    y = y_truth\n",
    "    p = [i>0.5 for i in prob]\n",
    "    t = prob\n",
    "    print('classification_report')\n",
    "    print(classification_report(y, p))\n",
    "    print('\\nconfusion_matrix')\n",
    "    print(confusion_matrix(y, p)*1.0/len(y))\n",
    "    print('\\ncohen_kappa_score       %2.4f'%cohen_kappa_score(y, p))\n",
    "    print('\\naccuracy_score          %2.4f'%accuracy_score(y, p))\n",
    "    print('\\nprecision_score         %2.4f'%precision_score(y, p))\n",
    "    print('\\nrecall_score            %2.4f'%recall_score(y, p))\n",
    "    print('\\nroc-auc score           %2.4f'%roc_auc_score(y, p))\n",
    "    print('\\nprecision-recall score %2.4f'%average_precision_score(y, t))\n",
    "    \n",
    "\n",
    "y = df['y_id'].get_values()\n",
    "p = (df['p_id']>0.5).get_values()\n",
    "get_all_classification_metrics(y, p)"
   ]
  },
  {
   "cell_type": "code",
   "execution_count": 58,
   "metadata": {},
   "outputs": [
    {
     "data": {
      "application/vnd.jupyter.widget-view+json": {
       "model_id": "a31e2a87bb61429db468144769e19cc8",
       "version_major": 2,
       "version_minor": 0
      },
      "text/plain": [
       "HBox(children=(IntProgress(value=0, max=8), HTML(value='')))"
      ]
     },
     "metadata": {},
     "output_type": "display_data"
    },
    {
     "name": "stdout",
     "output_type": "stream",
     "text": [
      "\n"
     ]
    }
   ],
   "source": [
    "# df_test = pd.read_csv('../table/df_test.csv')\n",
    "X_test = df_test[features].get_values()\n",
    "from tqdm import tqdm_notebook\n",
    "batch_size = 1024\n",
    "y_predict = []\n",
    "for ind in tqdm_notebook(range(int(X_test.shape[0]/batch_size)+1)):\n",
    "    #print(model.predict_proba(X[ind*batch_size : (ind+1)*batch_size]))\n",
    "    y_predict.extend(model.predict_proba(X_test[ind*batch_size : \n",
    "                                           min((ind+1)*batch_size, X.shape[0])]\n",
    "                                        )[:,0])"
   ]
  },
  {
   "cell_type": "code",
   "execution_count": 61,
   "metadata": {},
   "outputs": [],
   "source": [
    "df_test['p_id'] = y_predict\n",
    "# for "
   ]
  },
  {
   "cell_type": "code",
   "execution_count": 64,
   "metadata": {},
   "outputs": [
    {
     "name": "stderr",
     "output_type": "stream",
     "text": [
      "/usr/local/lib/python3.5/dist-packages/matplotlib/axes/_axes.py:6521: MatplotlibDeprecationWarning: \n",
      "The 'normed' kwarg was deprecated in Matplotlib 2.1 and will be removed in 3.1. Use 'density' instead.\n",
      "  alternative=\"'density'\", removal=\"3.1\")\n"
     ]
    },
    {
     "data": {
      "image/png": "[encoded data removed]",
      "text/plain": [
       "<Figure size 1440x720 with 1 Axes>"
      ]
     },
     "metadata": {
      "needs_background": "light"
     },
     "output_type": "display_data"
    }
   ],
   "source": [
    "from matplotlib import pyplot as plt\n",
    "%matplotlib inline\n",
    "plt.figure(figsize = (20, 10))\n",
    "plt.title('Probabilities')\n",
    "plt.hist(df_test['p_id'], bins = 100, alpha = 0.5, label = 'test y=1', normed = True)\n",
    "plt.hist(df['p_id'], bins = 100, alpha = 0.5, label = 'train y=0,1', normed = True)\n",
    "\n",
    "\n",
    "plt.legend()\n",
    "plt.show()"
   ]
  },
  {
   "cell_type": "code",
   "execution_count": 83,
   "metadata": {},
   "outputs": [
    {
     "name": "stdout",
     "output_type": "stream",
     "text": [
      "audio features 512\n",
      "video features 1000\n"
     ]
    },
    {
     "data": {
      "application/vnd.jupyter.widget-view+json": {
       "model_id": "3fc91e08738b4ece9e4b30b3f4ec54b6",
       "version_major": 2,
       "version_minor": 0
      },
      "text/plain": [
       "HBox(children=(IntProgress(value=0, max=64), HTML(value='')))"
      ]
     },
     "metadata": {},
     "output_type": "display_data"
    },
    {
     "name": "stdout",
     "output_type": "stream",
     "text": [
      "\n",
      "pp\tp\tm\n",
      "6247 19200 576000\n",
      "601447\n",
      "======\n",
      "devide by (n_p, n_pp, n_m)*df_train.shape[0]\n",
      "pp\tp\tm\n",
      "0.97609375 1.0 1.0\n",
      "shape :  (601447, 1517)\n"
     ]
    }
   ],
   "source": [
    "def create_dataset(df, n_pp, n_p, n_m):\n",
    "    audio_features = list(filter(lambda x:'audio' in x, df.keys()))\n",
    "    print('audio features', len(audio_features))\n",
    "\n",
    "    video_features = list(filter(lambda x:'video' in x, df.keys()))\n",
    "    print('video features', len(video_features))\n",
    "    \n",
    "    df = df.copy()\n",
    "    np.random.seed(42)\n",
    "\n",
    "    def ordered(l1,l2):\n",
    "        return tuple([min(l1, l2), max(l1, l2)])\n",
    "\n",
    "    def _create_pp(lst, n_pp=n_pp):\n",
    "        np.random.shuffle(lst)\n",
    "        n = min(len(lst), n_pp)\n",
    "        return lst[:n]\n",
    "\n",
    "    def _create_p(lst, n_p=n_p):\n",
    "        if n_p>len(lst)*(len(lst)-1):\n",
    "            print('Too big n_pp')\n",
    "            n_p = len(lst)*(len(lst)-1)\n",
    "            #maybe error here\n",
    "\n",
    "        l1 = np.random.randint(0, len(lst), n_p*10)\n",
    "        l2 = np.random.randint(0, len(lst), n_p*10)\n",
    "\n",
    "        temp = [ordered(lst[i], lst[k]) for i,k in zip(l1, l2) if i!=k]\n",
    "        res = []\n",
    "        for i in temp:\n",
    "            if i[0]==i[1]:\n",
    "                print(i)\n",
    "                raise ValueError('sosixuy')\n",
    "            if not i in res:\n",
    "                res.append(i)\n",
    "                if len(res)>=n_p:\n",
    "                    return res\n",
    "        print('Something was wrong')\n",
    "        return res\n",
    "\n",
    "    _all_ids = set(df['IDu'].get_values())\n",
    "    _global_id_was_in_pp = []\n",
    "    def _create_m(lst, n_m=n_m):\n",
    "        #global _all_ids\n",
    "        not_in_list = list(set(_all_ids)-set(lst))\n",
    "        lst_1 = lst.copy()\n",
    "        lst_0 = not_in_list.copy()\n",
    "\n",
    "        np.random.shuffle(lst_1)\n",
    "        np.random.shuffle(lst_0)\n",
    "\n",
    "        l1 = np.random.randint(0, len(lst_1), size = n_m*10)\n",
    "        l0 = np.random.randint(0, len(lst_0), size = n_m*10)\n",
    "\n",
    "        temp = [ordered(lst_1[i], lst_0[k]) for i,k in zip(l1, l0)]\n",
    "        res = []\n",
    "        for i in temp:\n",
    "            if i in _global_id_was_in_pp:\n",
    "                continue\n",
    "            if not i in res:\n",
    "                res.append(i)\n",
    "                if len(res)>=n_m:\n",
    "                    return res\n",
    "\n",
    "    res = {'pp':[],\n",
    "           'p' :[],\n",
    "           'm' :[]\n",
    "          }\n",
    "\n",
    "    for ID, obj in tqdm_notebook(df[['ID', 'segm', 'IDu']].groupby('ID')):\n",
    "        list_pp = _create_pp(obj['IDu'].get_values())\n",
    "        list_p  = _create_p(obj['IDu'].get_values())\n",
    "        list_m  = _create_m(obj['IDu'].get_values())\n",
    "        res['pp'].extend(list_pp)\n",
    "        res['p'].extend(list_p)\n",
    "        res['m'].extend(list_m)\n",
    "    #Checking correctness\n",
    "    if len(set(res['pp'])&set(res['p']))!=0 or\\\n",
    "        len(set(res['pp'])&set(res['m']))!=0 or\\\n",
    "        len(set(res['p'])&set(res['m']))!=0:\n",
    "        raise ValueError('Something wrong')\n",
    "\n",
    "    print('pp\\tp\\tm')\n",
    "    print(len(res['pp']), len(res['p']), len(res['m']))\n",
    "    print(len(res['pp'])+len(res['p'])+len(res['m']))\n",
    "    print('==='*2)\n",
    "    print('devide by (n_p, n_pp, n_m)*df_train.shape[0]')\n",
    "    print('pp\\tp\\tm')\n",
    "    print(len(res['pp'])/n_pp/df['ID'].nunique(), \n",
    "          len(res['p'])/n_p/df['ID'].nunique(), \n",
    "          len(res['m'])/n_m/df['ID'].nunique())\n",
    "    df.index = df['IDu']\n",
    "    ind1 = [i for i in res['pp']]\n",
    "    ind2 = [i for i in res['pp']]\n",
    "    a = df.loc[ind1, audio_features]\n",
    "    a['idu1'] = a.index\n",
    "    a = a.reset_index()\n",
    "    b = df.loc[ind2, video_features]\n",
    "    b['idu2'] = b.index\n",
    "    b = b.reset_index()\n",
    "\n",
    "    df_pp = pd.concat([a,b], axis = 1)\n",
    "    df_pp['y'] = 2\n",
    "\n",
    "    ind1 = [i[0] for i in res['p']]\n",
    "    ind2 = [i[1] for i in res['p']]\n",
    "    \n",
    "    a = df.loc[ind1, audio_features]\n",
    "    a['idu1'] = a.index\n",
    "    a = a.reset_index()\n",
    "    b = df.loc[ind2, video_features]\n",
    "    b['idu2'] = b.index\n",
    "    b = b.reset_index()\n",
    "\n",
    "    df_p = pd.concat([a,b], axis = 1)\n",
    "    df_p['y'] = 1\n",
    "\n",
    "    ind1 = [i[0] for i in res['m']]\n",
    "    ind2 = [i[1] for i in res['m']]\n",
    "    a = df.loc[ind1, audio_features]\n",
    "    a['idu1'] = a.index\n",
    "    a = a.reset_index()\n",
    "    b = df.loc[ind2, video_features]\n",
    "    b['idu2'] = b.index\n",
    "    b = b.reset_index()\n",
    "\n",
    "    df_m = pd.concat([a,b], axis = 1)\n",
    "    df_m['y'] = 0\n",
    "    df_train_final = pd.concat([df_p, df_pp, df_m])\n",
    "    print('shape : ',df_train_final.shape)\n",
    "    return df_train_final\n",
    "\n",
    "n_pp = 100\n",
    "n_p  = 300\n",
    "n_m  = 9000\n",
    "df_results = create_dataset(df_test.copy(), n_pp = n_pp, n_p = n_p, n_m = n_m)"
   ]
  },
  {
   "cell_type": "code",
   "execution_count": 101,
   "metadata": {},
   "outputs": [],
   "source": [
    "# %%time\n",
    "# df_results.to_csv('../table/test_object.csv')"
   ]
  },
  {
   "cell_type": "code",
   "execution_count": 104,
   "metadata": {},
   "outputs": [
    {
     "data": {
      "text/html": [
       "<div>\n",
       "<style scoped>\n",
       "    .dataframe tbody tr th:only-of-type {\n",
       "        vertical-align: middle;\n",
       "    }\n",
       "\n",
       "    .dataframe tbody tr th {\n",
       "        vertical-align: top;\n",
       "    }\n",
       "\n",
       "    .dataframe thead th {\n",
       "        text-align: right;\n",
       "    }\n",
       "</style>\n",
       "<table border=\"1\" class=\"dataframe\">\n",
       "  <thead>\n",
       "    <tr style=\"text-align: right;\">\n",
       "      <th></th>\n",
       "      <th>IDu</th>\n",
       "      <th>audio_0</th>\n",
       "      <th>audio_1</th>\n",
       "      <th>audio_10</th>\n",
       "      <th>audio_100</th>\n",
       "      <th>audio_101</th>\n",
       "      <th>audio_102</th>\n",
       "      <th>audio_103</th>\n",
       "      <th>audio_104</th>\n",
       "      <th>audio_105</th>\n",
       "      <th>...</th>\n",
       "      <th>video_992</th>\n",
       "      <th>video_993</th>\n",
       "      <th>video_994</th>\n",
       "      <th>video_995</th>\n",
       "      <th>video_996</th>\n",
       "      <th>video_997</th>\n",
       "      <th>video_998</th>\n",
       "      <th>video_999</th>\n",
       "      <th>idu2</th>\n",
       "      <th>y</th>\n",
       "    </tr>\n",
       "  </thead>\n",
       "  <tbody>\n",
       "    <tr>\n",
       "      <th>575990</th>\n",
       "      <td>PYw4CGUfnPE0083</td>\n",
       "      <td>0.620926</td>\n",
       "      <td>0.057858</td>\n",
       "      <td>-0.200748</td>\n",
       "      <td>0.866219</td>\n",
       "      <td>0.530723</td>\n",
       "      <td>1.185128</td>\n",
       "      <td>1.466283</td>\n",
       "      <td>0.724852</td>\n",
       "      <td>2.084208</td>\n",
       "      <td>...</td>\n",
       "      <td>0.000064</td>\n",
       "      <td>0.000036</td>\n",
       "      <td>0.000089</td>\n",
       "      <td>0.000309</td>\n",
       "      <td>0.000061</td>\n",
       "      <td>0.000033</td>\n",
       "      <td>0.002118</td>\n",
       "      <td>0.000283</td>\n",
       "      <td>yCZmZ5cju3Y0019</td>\n",
       "      <td>0</td>\n",
       "    </tr>\n",
       "    <tr>\n",
       "      <th>575991</th>\n",
       "      <td>OXm6_v0rMCY0111</td>\n",
       "      <td>0.094463</td>\n",
       "      <td>-0.000315</td>\n",
       "      <td>0.272611</td>\n",
       "      <td>0.247727</td>\n",
       "      <td>0.991767</td>\n",
       "      <td>0.634711</td>\n",
       "      <td>1.117447</td>\n",
       "      <td>1.034132</td>\n",
       "      <td>1.718865</td>\n",
       "      <td>...</td>\n",
       "      <td>0.000066</td>\n",
       "      <td>0.000048</td>\n",
       "      <td>0.000095</td>\n",
       "      <td>0.000308</td>\n",
       "      <td>0.000135</td>\n",
       "      <td>0.000048</td>\n",
       "      <td>0.001663</td>\n",
       "      <td>0.000744</td>\n",
       "      <td>yCZmZ5cju3Y0024</td>\n",
       "      <td>0</td>\n",
       "    </tr>\n",
       "    <tr>\n",
       "      <th>575992</th>\n",
       "      <td>tvTRZJ-4EyI0004</td>\n",
       "      <td>1.546405</td>\n",
       "      <td>0.863989</td>\n",
       "      <td>-0.200462</td>\n",
       "      <td>-0.239473</td>\n",
       "      <td>-0.291735</td>\n",
       "      <td>2.563934</td>\n",
       "      <td>-0.235911</td>\n",
       "      <td>1.692751</td>\n",
       "      <td>2.165673</td>\n",
       "      <td>...</td>\n",
       "      <td>0.000057</td>\n",
       "      <td>0.000051</td>\n",
       "      <td>0.000103</td>\n",
       "      <td>0.000320</td>\n",
       "      <td>0.000143</td>\n",
       "      <td>0.000044</td>\n",
       "      <td>0.001415</td>\n",
       "      <td>0.000861</td>\n",
       "      <td>yCZmZ5cju3Y0008</td>\n",
       "      <td>0</td>\n",
       "    </tr>\n",
       "    <tr>\n",
       "      <th>575993</th>\n",
       "      <td>rMqayQ-U74s0097</td>\n",
       "      <td>0.045928</td>\n",
       "      <td>-0.032538</td>\n",
       "      <td>0.339385</td>\n",
       "      <td>-0.013318</td>\n",
       "      <td>0.725539</td>\n",
       "      <td>0.150522</td>\n",
       "      <td>0.075272</td>\n",
       "      <td>0.629855</td>\n",
       "      <td>1.520480</td>\n",
       "      <td>...</td>\n",
       "      <td>0.000046</td>\n",
       "      <td>0.000039</td>\n",
       "      <td>0.000070</td>\n",
       "      <td>0.000222</td>\n",
       "      <td>0.000130</td>\n",
       "      <td>0.000029</td>\n",
       "      <td>0.001255</td>\n",
       "      <td>0.000401</td>\n",
       "      <td>yCZmZ5cju3Y0063</td>\n",
       "      <td>0</td>\n",
       "    </tr>\n",
       "    <tr>\n",
       "      <th>575994</th>\n",
       "      <td>TGjl_SHbqr40132</td>\n",
       "      <td>-0.011562</td>\n",
       "      <td>0.262922</td>\n",
       "      <td>0.077088</td>\n",
       "      <td>-0.233647</td>\n",
       "      <td>0.086765</td>\n",
       "      <td>0.075203</td>\n",
       "      <td>0.674713</td>\n",
       "      <td>0.838962</td>\n",
       "      <td>1.731093</td>\n",
       "      <td>...</td>\n",
       "      <td>0.000042</td>\n",
       "      <td>0.000022</td>\n",
       "      <td>0.000057</td>\n",
       "      <td>0.000223</td>\n",
       "      <td>0.000042</td>\n",
       "      <td>0.000022</td>\n",
       "      <td>0.001921</td>\n",
       "      <td>0.000209</td>\n",
       "      <td>yCZmZ5cju3Y0021</td>\n",
       "      <td>0</td>\n",
       "    </tr>\n",
       "  </tbody>\n",
       "</table>\n",
       "<p>5 rows × 1517 columns</p>\n",
       "</div>"
      ],
      "text/plain": [
       "                    IDu   audio_0   audio_1  audio_10  audio_100  audio_101  \\\n",
       "575990  PYw4CGUfnPE0083  0.620926  0.057858 -0.200748   0.866219   0.530723   \n",
       "575991  OXm6_v0rMCY0111  0.094463 -0.000315  0.272611   0.247727   0.991767   \n",
       "575992  tvTRZJ-4EyI0004  1.546405  0.863989 -0.200462  -0.239473  -0.291735   \n",
       "575993  rMqayQ-U74s0097  0.045928 -0.032538  0.339385  -0.013318   0.725539   \n",
       "575994  TGjl_SHbqr40132 -0.011562  0.262922  0.077088  -0.233647   0.086765   \n",
       "\n",
       "        audio_102  audio_103  audio_104  audio_105  ...  video_992  video_993  \\\n",
       "575990   1.185128   1.466283   0.724852   2.084208  ...   0.000064   0.000036   \n",
       "575991   0.634711   1.117447   1.034132   1.718865  ...   0.000066   0.000048   \n",
       "575992   2.563934  -0.235911   1.692751   2.165673  ...   0.000057   0.000051   \n",
       "575993   0.150522   0.075272   0.629855   1.520480  ...   0.000046   0.000039   \n",
       "575994   0.075203   0.674713   0.838962   1.731093  ...   0.000042   0.000022   \n",
       "\n",
       "        video_994  video_995  video_996  video_997  video_998  video_999  \\\n",
       "575990   0.000089   0.000309   0.000061   0.000033   0.002118   0.000283   \n",
       "575991   0.000095   0.000308   0.000135   0.000048   0.001663   0.000744   \n",
       "575992   0.000103   0.000320   0.000143   0.000044   0.001415   0.000861   \n",
       "575993   0.000070   0.000222   0.000130   0.000029   0.001255   0.000401   \n",
       "575994   0.000057   0.000223   0.000042   0.000022   0.001921   0.000209   \n",
       "\n",
       "                   idu2  y  \n",
       "575990  yCZmZ5cju3Y0019  0  \n",
       "575991  yCZmZ5cju3Y0024  0  \n",
       "575992  yCZmZ5cju3Y0008  0  \n",
       "575993  yCZmZ5cju3Y0063  0  \n",
       "575994  yCZmZ5cju3Y0021  0  \n",
       "\n",
       "[5 rows x 1517 columns]"
      ]
     },
     "execution_count": 104,
     "metadata": {},
     "output_type": "execute_result"
    }
   ],
   "source": [
    "df_results[-10:].head()"
   ]
  },
  {
   "cell_type": "code",
   "execution_count": 105,
   "metadata": {},
   "outputs": [
    {
     "data": {
      "application/vnd.jupyter.widget-view+json": {
       "model_id": "fcd2931a0fd64c60be9652b4bcb7e925",
       "version_major": 2,
       "version_minor": 0
      },
      "text/plain": [
       "HBox(children=(IntProgress(value=0, max=1), HTML(value='')))"
      ]
     },
     "metadata": {},
     "output_type": "display_data"
    },
    {
     "name": "stdout",
     "output_type": "stream",
     "text": [
      "\n"
     ]
    }
   ],
   "source": [
    "df_results.shape\n",
    "y_predict = get_predictions(model, df_results[features][-10:].get_values())"
   ]
  },
  {
   "cell_type": "code",
   "execution_count": 108,
   "metadata": {},
   "outputs": [
    {
     "data": {
      "text/html": [
       "<div>\n",
       "<style scoped>\n",
       "    .dataframe tbody tr th:only-of-type {\n",
       "        vertical-align: middle;\n",
       "    }\n",
       "\n",
       "    .dataframe tbody tr th {\n",
       "        vertical-align: top;\n",
       "    }\n",
       "\n",
       "    .dataframe thead th {\n",
       "        text-align: right;\n",
       "    }\n",
       "</style>\n",
       "<table border=\"1\" class=\"dataframe\">\n",
       "  <thead>\n",
       "    <tr style=\"text-align: right;\">\n",
       "      <th></th>\n",
       "      <th>audio_0</th>\n",
       "      <th>audio_1</th>\n",
       "      <th>audio_10</th>\n",
       "      <th>audio_100</th>\n",
       "      <th>audio_101</th>\n",
       "      <th>audio_102</th>\n",
       "      <th>audio_103</th>\n",
       "      <th>audio_104</th>\n",
       "      <th>audio_105</th>\n",
       "      <th>audio_106</th>\n",
       "      <th>...</th>\n",
       "      <th>video_990</th>\n",
       "      <th>video_991</th>\n",
       "      <th>video_992</th>\n",
       "      <th>video_993</th>\n",
       "      <th>video_994</th>\n",
       "      <th>video_995</th>\n",
       "      <th>video_996</th>\n",
       "      <th>video_997</th>\n",
       "      <th>video_998</th>\n",
       "      <th>video_999</th>\n",
       "    </tr>\n",
       "  </thead>\n",
       "  <tbody>\n",
       "    <tr>\n",
       "      <th>575990</th>\n",
       "      <td>0.620926</td>\n",
       "      <td>0.057858</td>\n",
       "      <td>-0.200748</td>\n",
       "      <td>0.866219</td>\n",
       "      <td>0.530723</td>\n",
       "      <td>1.185128</td>\n",
       "      <td>1.466283</td>\n",
       "      <td>0.724852</td>\n",
       "      <td>2.084208</td>\n",
       "      <td>0.639442</td>\n",
       "      <td>...</td>\n",
       "      <td>0.000918</td>\n",
       "      <td>0.000281</td>\n",
       "      <td>0.000064</td>\n",
       "      <td>0.000036</td>\n",
       "      <td>0.000089</td>\n",
       "      <td>0.000309</td>\n",
       "      <td>0.000061</td>\n",
       "      <td>0.000033</td>\n",
       "      <td>0.002118</td>\n",
       "      <td>0.000283</td>\n",
       "    </tr>\n",
       "    <tr>\n",
       "      <th>575991</th>\n",
       "      <td>0.094463</td>\n",
       "      <td>-0.000315</td>\n",
       "      <td>0.272611</td>\n",
       "      <td>0.247727</td>\n",
       "      <td>0.991767</td>\n",
       "      <td>0.634711</td>\n",
       "      <td>1.117447</td>\n",
       "      <td>1.034132</td>\n",
       "      <td>1.718865</td>\n",
       "      <td>0.968234</td>\n",
       "      <td>...</td>\n",
       "      <td>0.000884</td>\n",
       "      <td>0.000211</td>\n",
       "      <td>0.000066</td>\n",
       "      <td>0.000048</td>\n",
       "      <td>0.000095</td>\n",
       "      <td>0.000308</td>\n",
       "      <td>0.000135</td>\n",
       "      <td>0.000048</td>\n",
       "      <td>0.001663</td>\n",
       "      <td>0.000744</td>\n",
       "    </tr>\n",
       "    <tr>\n",
       "      <th>575992</th>\n",
       "      <td>1.546405</td>\n",
       "      <td>0.863989</td>\n",
       "      <td>-0.200462</td>\n",
       "      <td>-0.239473</td>\n",
       "      <td>-0.291735</td>\n",
       "      <td>2.563934</td>\n",
       "      <td>-0.235911</td>\n",
       "      <td>1.692751</td>\n",
       "      <td>2.165673</td>\n",
       "      <td>-0.481656</td>\n",
       "      <td>...</td>\n",
       "      <td>0.000431</td>\n",
       "      <td>0.000195</td>\n",
       "      <td>0.000057</td>\n",
       "      <td>0.000051</td>\n",
       "      <td>0.000103</td>\n",
       "      <td>0.000320</td>\n",
       "      <td>0.000143</td>\n",
       "      <td>0.000044</td>\n",
       "      <td>0.001415</td>\n",
       "      <td>0.000861</td>\n",
       "    </tr>\n",
       "    <tr>\n",
       "      <th>575993</th>\n",
       "      <td>0.045928</td>\n",
       "      <td>-0.032538</td>\n",
       "      <td>0.339385</td>\n",
       "      <td>-0.013318</td>\n",
       "      <td>0.725539</td>\n",
       "      <td>0.150522</td>\n",
       "      <td>0.075272</td>\n",
       "      <td>0.629855</td>\n",
       "      <td>1.520480</td>\n",
       "      <td>0.955522</td>\n",
       "      <td>...</td>\n",
       "      <td>0.000521</td>\n",
       "      <td>0.000227</td>\n",
       "      <td>0.000046</td>\n",
       "      <td>0.000039</td>\n",
       "      <td>0.000070</td>\n",
       "      <td>0.000222</td>\n",
       "      <td>0.000130</td>\n",
       "      <td>0.000029</td>\n",
       "      <td>0.001255</td>\n",
       "      <td>0.000401</td>\n",
       "    </tr>\n",
       "    <tr>\n",
       "      <th>575994</th>\n",
       "      <td>-0.011562</td>\n",
       "      <td>0.262922</td>\n",
       "      <td>0.077088</td>\n",
       "      <td>-0.233647</td>\n",
       "      <td>0.086765</td>\n",
       "      <td>0.075203</td>\n",
       "      <td>0.674713</td>\n",
       "      <td>0.838962</td>\n",
       "      <td>1.731093</td>\n",
       "      <td>0.692783</td>\n",
       "      <td>...</td>\n",
       "      <td>0.000729</td>\n",
       "      <td>0.000197</td>\n",
       "      <td>0.000042</td>\n",
       "      <td>0.000022</td>\n",
       "      <td>0.000057</td>\n",
       "      <td>0.000223</td>\n",
       "      <td>0.000042</td>\n",
       "      <td>0.000022</td>\n",
       "      <td>0.001921</td>\n",
       "      <td>0.000209</td>\n",
       "    </tr>\n",
       "    <tr>\n",
       "      <th>575995</th>\n",
       "      <td>0.954333</td>\n",
       "      <td>0.720130</td>\n",
       "      <td>0.328610</td>\n",
       "      <td>-0.210071</td>\n",
       "      <td>-0.375292</td>\n",
       "      <td>1.169562</td>\n",
       "      <td>-0.229202</td>\n",
       "      <td>0.920543</td>\n",
       "      <td>1.654919</td>\n",
       "      <td>0.167809</td>\n",
       "      <td>...</td>\n",
       "      <td>0.001004</td>\n",
       "      <td>0.000369</td>\n",
       "      <td>0.000110</td>\n",
       "      <td>0.000025</td>\n",
       "      <td>0.000121</td>\n",
       "      <td>0.000413</td>\n",
       "      <td>0.000029</td>\n",
       "      <td>0.000029</td>\n",
       "      <td>0.001560</td>\n",
       "      <td>0.000146</td>\n",
       "    </tr>\n",
       "    <tr>\n",
       "      <th>575996</th>\n",
       "      <td>0.472950</td>\n",
       "      <td>0.808397</td>\n",
       "      <td>0.383010</td>\n",
       "      <td>-0.348284</td>\n",
       "      <td>-0.519158</td>\n",
       "      <td>0.559706</td>\n",
       "      <td>0.862278</td>\n",
       "      <td>0.466255</td>\n",
       "      <td>1.156223</td>\n",
       "      <td>0.126006</td>\n",
       "      <td>...</td>\n",
       "      <td>0.000385</td>\n",
       "      <td>0.000268</td>\n",
       "      <td>0.000027</td>\n",
       "      <td>0.000038</td>\n",
       "      <td>0.000056</td>\n",
       "      <td>0.000243</td>\n",
       "      <td>0.000140</td>\n",
       "      <td>0.000023</td>\n",
       "      <td>0.001653</td>\n",
       "      <td>0.000275</td>\n",
       "    </tr>\n",
       "    <tr>\n",
       "      <th>575997</th>\n",
       "      <td>0.990685</td>\n",
       "      <td>0.683641</td>\n",
       "      <td>-0.123514</td>\n",
       "      <td>-0.618640</td>\n",
       "      <td>0.159317</td>\n",
       "      <td>1.874547</td>\n",
       "      <td>-0.338888</td>\n",
       "      <td>1.560841</td>\n",
       "      <td>2.074708</td>\n",
       "      <td>-0.292761</td>\n",
       "      <td>...</td>\n",
       "      <td>0.000884</td>\n",
       "      <td>0.000211</td>\n",
       "      <td>0.000066</td>\n",
       "      <td>0.000048</td>\n",
       "      <td>0.000095</td>\n",
       "      <td>0.000308</td>\n",
       "      <td>0.000135</td>\n",
       "      <td>0.000048</td>\n",
       "      <td>0.001663</td>\n",
       "      <td>0.000744</td>\n",
       "    </tr>\n",
       "    <tr>\n",
       "      <th>575998</th>\n",
       "      <td>0.403277</td>\n",
       "      <td>0.699824</td>\n",
       "      <td>0.154933</td>\n",
       "      <td>-0.439666</td>\n",
       "      <td>0.566066</td>\n",
       "      <td>1.600322</td>\n",
       "      <td>-0.175850</td>\n",
       "      <td>2.209169</td>\n",
       "      <td>1.624616</td>\n",
       "      <td>-0.361947</td>\n",
       "      <td>...</td>\n",
       "      <td>0.001086</td>\n",
       "      <td>0.000348</td>\n",
       "      <td>0.000074</td>\n",
       "      <td>0.000057</td>\n",
       "      <td>0.000112</td>\n",
       "      <td>0.000369</td>\n",
       "      <td>0.000066</td>\n",
       "      <td>0.000047</td>\n",
       "      <td>0.002024</td>\n",
       "      <td>0.000365</td>\n",
       "    </tr>\n",
       "    <tr>\n",
       "      <th>575999</th>\n",
       "      <td>0.047544</td>\n",
       "      <td>0.289782</td>\n",
       "      <td>0.193948</td>\n",
       "      <td>-0.154625</td>\n",
       "      <td>0.378890</td>\n",
       "      <td>0.747796</td>\n",
       "      <td>0.256438</td>\n",
       "      <td>0.736268</td>\n",
       "      <td>1.969266</td>\n",
       "      <td>0.693030</td>\n",
       "      <td>...</td>\n",
       "      <td>0.000431</td>\n",
       "      <td>0.000195</td>\n",
       "      <td>0.000057</td>\n",
       "      <td>0.000051</td>\n",
       "      <td>0.000103</td>\n",
       "      <td>0.000320</td>\n",
       "      <td>0.000143</td>\n",
       "      <td>0.000044</td>\n",
       "      <td>0.001415</td>\n",
       "      <td>0.000861</td>\n",
       "    </tr>\n",
       "  </tbody>\n",
       "</table>\n",
       "<p>10 rows × 1512 columns</p>\n",
       "</div>"
      ],
      "text/plain": [
       "         audio_0   audio_1  audio_10  audio_100  audio_101  audio_102  \\\n",
       "575990  0.620926  0.057858 -0.200748   0.866219   0.530723   1.185128   \n",
       "575991  0.094463 -0.000315  0.272611   0.247727   0.991767   0.634711   \n",
       "575992  1.546405  0.863989 -0.200462  -0.239473  -0.291735   2.563934   \n",
       "575993  0.045928 -0.032538  0.339385  -0.013318   0.725539   0.150522   \n",
       "575994 -0.011562  0.262922  0.077088  -0.233647   0.086765   0.075203   \n",
       "575995  0.954333  0.720130  0.328610  -0.210071  -0.375292   1.169562   \n",
       "575996  0.472950  0.808397  0.383010  -0.348284  -0.519158   0.559706   \n",
       "575997  0.990685  0.683641 -0.123514  -0.618640   0.159317   1.874547   \n",
       "575998  0.403277  0.699824  0.154933  -0.439666   0.566066   1.600322   \n",
       "575999  0.047544  0.289782  0.193948  -0.154625   0.378890   0.747796   \n",
       "\n",
       "        audio_103  audio_104  audio_105  audio_106  ...  video_990  video_991  \\\n",
       "575990   1.466283   0.724852   2.084208   0.639442  ...   0.000918   0.000281   \n",
       "575991   1.117447   1.034132   1.718865   0.968234  ...   0.000884   0.000211   \n",
       "575992  -0.235911   1.692751   2.165673  -0.481656  ...   0.000431   0.000195   \n",
       "575993   0.075272   0.629855   1.520480   0.955522  ...   0.000521   0.000227   \n",
       "575994   0.674713   0.838962   1.731093   0.692783  ...   0.000729   0.000197   \n",
       "575995  -0.229202   0.920543   1.654919   0.167809  ...   0.001004   0.000369   \n",
       "575996   0.862278   0.466255   1.156223   0.126006  ...   0.000385   0.000268   \n",
       "575997  -0.338888   1.560841   2.074708  -0.292761  ...   0.000884   0.000211   \n",
       "575998  -0.175850   2.209169   1.624616  -0.361947  ...   0.001086   0.000348   \n",
       "575999   0.256438   0.736268   1.969266   0.693030  ...   0.000431   0.000195   \n",
       "\n",
       "        video_992  video_993  video_994  video_995  video_996  video_997  \\\n",
       "575990   0.000064   0.000036   0.000089   0.000309   0.000061   0.000033   \n",
       "575991   0.000066   0.000048   0.000095   0.000308   0.000135   0.000048   \n",
       "575992   0.000057   0.000051   0.000103   0.000320   0.000143   0.000044   \n",
       "575993   0.000046   0.000039   0.000070   0.000222   0.000130   0.000029   \n",
       "575994   0.000042   0.000022   0.000057   0.000223   0.000042   0.000022   \n",
       "575995   0.000110   0.000025   0.000121   0.000413   0.000029   0.000029   \n",
       "575996   0.000027   0.000038   0.000056   0.000243   0.000140   0.000023   \n",
       "575997   0.000066   0.000048   0.000095   0.000308   0.000135   0.000048   \n",
       "575998   0.000074   0.000057   0.000112   0.000369   0.000066   0.000047   \n",
       "575999   0.000057   0.000051   0.000103   0.000320   0.000143   0.000044   \n",
       "\n",
       "        video_998  video_999  \n",
       "575990   0.002118   0.000283  \n",
       "575991   0.001663   0.000744  \n",
       "575992   0.001415   0.000861  \n",
       "575993   0.001255   0.000401  \n",
       "575994   0.001921   0.000209  \n",
       "575995   0.001560   0.000146  \n",
       "575996   0.001653   0.000275  \n",
       "575997   0.001663   0.000744  \n",
       "575998   0.002024   0.000365  \n",
       "575999   0.001415   0.000861  \n",
       "\n",
       "[10 rows x 1512 columns]"
      ]
     },
     "execution_count": 108,
     "metadata": {},
     "output_type": "execute_result"
    }
   ],
   "source": [
    "df_results[-10:][features]"
   ]
  },
  {
   "cell_type": "code",
   "execution_count": 106,
   "metadata": {},
   "outputs": [
    {
     "name": "stdout",
     "output_type": "stream",
     "text": [
      "[1.0, 1.0, 1.0, 1.0, 1.0, 1.0, 1.0, 1.0, 1.0, 1.0]\n"
     ]
    }
   ],
   "source": [
    "print(y_predict)"
   ]
  },
  {
   "cell_type": "code",
   "execution_count": 5,
   "metadata": {},
   "outputs": [
    {
     "name": "stdout",
     "output_type": "stream",
     "text": [
      "[name: \"/device:CPU:0\"\n",
      "device_type: \"CPU\"\n",
      "memory_limit: 268435456\n",
      "locality {\n",
      "}\n",
      "incarnation: 11929261898176552793\n",
      ", name: \"/device:XLA_GPU:0\"\n",
      "device_type: \"XLA_GPU\"\n",
      "memory_limit: 17179869184\n",
      "locality {\n",
      "}\n",
      "incarnation: 11578254437809033198\n",
      "physical_device_desc: \"device: XLA_GPU device\"\n",
      ", name: \"/device:XLA_CPU:0\"\n",
      "device_type: \"XLA_CPU\"\n",
      "memory_limit: 17179869184\n",
      "locality {\n",
      "}\n",
      "incarnation: 6273740261834725298\n",
      "physical_device_desc: \"device: XLA_CPU device\"\n",
      ", name: \"/device:GPU:0\"\n",
      "device_type: \"GPU\"\n",
      "memory_limit: 10745128551\n",
      "locality {\n",
      "  bus_id: 1\n",
      "  links {\n",
      "  }\n",
      "}\n",
      "incarnation: 2462959724264139210\n",
      "physical_device_desc: \"device: 0, name: GeForce RTX 2080 Ti, pci bus id: 0000:04:00.0, compute capability: 7.5\"\n",
      "]\n"
     ]
    }
   ],
   "source": [
    "from tensorflow.python.client import device_lib\n",
    "print(device_lib.list_local_devices())"
   ]
  },
  {
   "cell_type": "code",
   "execution_count": 6,
   "metadata": {},
   "outputs": [
    {
     "name": "stderr",
     "output_type": "stream",
     "text": [
      "Using TensorFlow backend.\n"
     ]
    },
    {
     "data": {
      "text/plain": [
       "['/job:localhost/replica:0/task:0/device:GPU:0']"
      ]
     },
     "execution_count": 6,
     "metadata": {},
     "output_type": "execute_result"
    }
   ],
   "source": [
    "from keras import backend as K\n",
    "K.tensorflow_backend._get_available_gpus()"
   ]
  },
  {
   "cell_type": "code",
   "execution_count": 4,
   "metadata": {},
   "outputs": [
    {
     "ename": "AttributeError",
     "evalue": "'int' object has no attribute 'split'",
     "output_type": "error",
     "traceback": [
      "\u001b[0;31m\u001b[0m",
      "\u001b[0;31mAttributeError\u001b[0mTraceback (most recent call last)",
      "\u001b[0;32m<ipython-input-4-f4abb7851149>\u001b[0m in \u001b[0;36m<module>\u001b[0;34m\u001b[0m\n\u001b[1;32m      2\u001b[0m \u001b[0;31m# tf.device\u001b[0m\u001b[0;34m\u001b[0m\u001b[0;34m\u001b[0m\u001b[0m\n\u001b[1;32m      3\u001b[0m \u001b[0;32mimport\u001b[0m \u001b[0mtensorflow\u001b[0m \u001b[0;32mas\u001b[0m \u001b[0mtf\u001b[0m\u001b[0;34m\u001b[0m\u001b[0m\n\u001b[0;32m----> 4\u001b[0;31m \u001b[0;32mwith\u001b[0m \u001b[0mtf\u001b[0m\u001b[0;34m.\u001b[0m\u001b[0mdevice\u001b[0m\u001b[0;34m(\u001b[0m\u001b[0;36m11040818267891171754\u001b[0m\u001b[0;34m)\u001b[0m\u001b[0;34m:\u001b[0m\u001b[0;34m\u001b[0m\u001b[0m\n\u001b[0m\u001b[1;32m      5\u001b[0m     \u001b[0mprint\u001b[0m\u001b[0;34m(\u001b[0m\u001b[0;36m1\u001b[0m\u001b[0;34m)\u001b[0m\u001b[0;34m\u001b[0m\u001b[0m\n",
      "\u001b[0;32m/usr/lib/python3.5/contextlib.py\u001b[0m in \u001b[0;36m__enter__\u001b[0;34m(self)\u001b[0m\n\u001b[1;32m     57\u001b[0m     \u001b[0;32mdef\u001b[0m \u001b[0m__enter__\u001b[0m\u001b[0;34m(\u001b[0m\u001b[0mself\u001b[0m\u001b[0;34m)\u001b[0m\u001b[0;34m:\u001b[0m\u001b[0;34m\u001b[0m\u001b[0m\n\u001b[1;32m     58\u001b[0m         \u001b[0;32mtry\u001b[0m\u001b[0;34m:\u001b[0m\u001b[0;34m\u001b[0m\u001b[0m\n\u001b[0;32m---> 59\u001b[0;31m             \u001b[0;32mreturn\u001b[0m \u001b[0mnext\u001b[0m\u001b[0;34m(\u001b[0m\u001b[0mself\u001b[0m\u001b[0;34m.\u001b[0m\u001b[0mgen\u001b[0m\u001b[0;34m)\u001b[0m\u001b[0;34m\u001b[0m\u001b[0m\n\u001b[0m\u001b[1;32m     60\u001b[0m         \u001b[0;32mexcept\u001b[0m \u001b[0mStopIteration\u001b[0m\u001b[0;34m:\u001b[0m\u001b[0;34m\u001b[0m\u001b[0m\n\u001b[1;32m     61\u001b[0m             \u001b[0;32mraise\u001b[0m \u001b[0mRuntimeError\u001b[0m\u001b[0;34m(\u001b[0m\u001b[0;34m\"generator didn't yield\"\u001b[0m\u001b[0;34m)\u001b[0m \u001b[0;32mfrom\u001b[0m \u001b[0;32mNone\u001b[0m\u001b[0;34m\u001b[0m\u001b[0m\n",
      "\u001b[0;32m/usr/local/lib/python3.5/dist-packages/tensorflow/python/framework/ops.py\u001b[0m in \u001b[0;36mdevice\u001b[0;34m(self, device_name_or_function)\u001b[0m\n\u001b[1;32m   4228\u001b[0m       \u001b[0mcreated\u001b[0m \u001b[0mops\u001b[0m\u001b[0;34m.\u001b[0m\u001b[0;34m\u001b[0m\u001b[0m\n\u001b[1;32m   4229\u001b[0m     \"\"\"\n\u001b[0;32m-> 4230\u001b[0;31m     \u001b[0mself\u001b[0m\u001b[0;34m.\u001b[0m\u001b[0m_add_device_to_stack\u001b[0m\u001b[0;34m(\u001b[0m\u001b[0mdevice_name_or_function\u001b[0m\u001b[0;34m,\u001b[0m \u001b[0moffset\u001b[0m\u001b[0;34m=\u001b[0m\u001b[0;36m2\u001b[0m\u001b[0;34m)\u001b[0m\u001b[0;34m\u001b[0m\u001b[0m\n\u001b[0m\u001b[1;32m   4231\u001b[0m     \u001b[0;32mtry\u001b[0m\u001b[0;34m:\u001b[0m\u001b[0;34m\u001b[0m\u001b[0m\n\u001b[1;32m   4232\u001b[0m       \u001b[0;32myield\u001b[0m\u001b[0;34m\u001b[0m\u001b[0m\n",
      "\u001b[0;32m/usr/local/lib/python3.5/dist-packages/tensorflow/python/framework/ops.py\u001b[0m in \u001b[0;36m_add_device_to_stack\u001b[0;34m(self, device_name_or_function, offset)\u001b[0m\n\u001b[1;32m   4166\u001b[0m     \u001b[0;34m\"\"\"Add device to stack manually, separate from a context manager.\"\"\"\u001b[0m\u001b[0;34m\u001b[0m\u001b[0m\n\u001b[1;32m   4167\u001b[0m     \u001b[0mtotal_offset\u001b[0m \u001b[0;34m=\u001b[0m \u001b[0;36m1\u001b[0m \u001b[0;34m+\u001b[0m \u001b[0moffset\u001b[0m\u001b[0;34m\u001b[0m\u001b[0m\n\u001b[0;32m-> 4168\u001b[0;31m     \u001b[0mspec\u001b[0m \u001b[0;34m=\u001b[0m \u001b[0m_UserDeviceSpec\u001b[0m\u001b[0;34m(\u001b[0m\u001b[0mdevice_name_or_function\u001b[0m\u001b[0;34m)\u001b[0m\u001b[0;34m\u001b[0m\u001b[0m\n\u001b[0m\u001b[1;32m   4169\u001b[0m     \u001b[0mself\u001b[0m\u001b[0;34m.\u001b[0m\u001b[0m_device_function_stack\u001b[0m\u001b[0;34m.\u001b[0m\u001b[0mpush_obj\u001b[0m\u001b[0;34m(\u001b[0m\u001b[0mspec\u001b[0m\u001b[0;34m,\u001b[0m \u001b[0moffset\u001b[0m\u001b[0;34m=\u001b[0m\u001b[0mtotal_offset\u001b[0m\u001b[0;34m)\u001b[0m\u001b[0;34m\u001b[0m\u001b[0m\n\u001b[1;32m   4170\u001b[0m     \u001b[0;32mreturn\u001b[0m \u001b[0mspec\u001b[0m\u001b[0;34m\u001b[0m\u001b[0m\n",
      "\u001b[0;32m/usr/local/lib/python3.5/dist-packages/tensorflow/python/framework/ops.py\u001b[0m in \u001b[0;36m__init__\u001b[0;34m(self, device_name_or_function)\u001b[0m\n\u001b[1;32m     98\u001b[0m     if not (self._device_name_or_function is None or\n\u001b[1;32m     99\u001b[0m             callable(self._device_name_or_function)):\n\u001b[0;32m--> 100\u001b[0;31m       \u001b[0mself\u001b[0m\u001b[0;34m.\u001b[0m\u001b[0mfunction\u001b[0m \u001b[0;34m=\u001b[0m \u001b[0mpydev\u001b[0m\u001b[0;34m.\u001b[0m\u001b[0mmerge_device\u001b[0m\u001b[0;34m(\u001b[0m\u001b[0mself\u001b[0m\u001b[0;34m.\u001b[0m\u001b[0m_device_name_or_function\u001b[0m\u001b[0;34m)\u001b[0m\u001b[0;34m\u001b[0m\u001b[0m\n\u001b[0m\u001b[1;32m    101\u001b[0m \u001b[0;34m\u001b[0m\u001b[0m\n\u001b[1;32m    102\u001b[0m \u001b[0;34m\u001b[0m\u001b[0m\n",
      "\u001b[0;32m/usr/local/lib/python3.5/dist-packages/tensorflow/python/framework/device.py\u001b[0m in \u001b[0;36mmerge_device\u001b[0;34m(spec)\u001b[0m\n\u001b[1;32m    302\u001b[0m       \u001b[0mcached_device_spec\u001b[0m \u001b[0;34m=\u001b[0m \u001b[0m_cached_device_specs\u001b[0m\u001b[0;34m.\u001b[0m\u001b[0mget\u001b[0m\u001b[0;34m(\u001b[0m\u001b[0mspec\u001b[0m\u001b[0;34m,\u001b[0m \u001b[0;32mNone\u001b[0m\u001b[0;34m)\u001b[0m\u001b[0;34m\u001b[0m\u001b[0m\n\u001b[1;32m    303\u001b[0m       \u001b[0;32mif\u001b[0m \u001b[0mcached_device_spec\u001b[0m \u001b[0;32mis\u001b[0m \u001b[0;32mNone\u001b[0m\u001b[0;34m:\u001b[0m\u001b[0;34m\u001b[0m\u001b[0m\n\u001b[0;32m--> 304\u001b[0;31m         \u001b[0mdevice_spec\u001b[0m \u001b[0;34m=\u001b[0m \u001b[0mDeviceSpec\u001b[0m\u001b[0;34m.\u001b[0m\u001b[0mfrom_string\u001b[0m\u001b[0;34m(\u001b[0m\u001b[0mspec\u001b[0m \u001b[0;32mor\u001b[0m \u001b[0;34m\"\"\u001b[0m\u001b[0;34m)\u001b[0m\u001b[0;34m\u001b[0m\u001b[0m\n\u001b[0m\u001b[1;32m    305\u001b[0m         \u001b[0m_cached_device_specs\u001b[0m\u001b[0;34m[\u001b[0m\u001b[0mspec\u001b[0m\u001b[0;34m]\u001b[0m \u001b[0;34m=\u001b[0m \u001b[0mdevice_spec\u001b[0m\u001b[0;34m\u001b[0m\u001b[0m\n\u001b[1;32m    306\u001b[0m         \u001b[0mspec\u001b[0m \u001b[0;34m=\u001b[0m \u001b[0mdevice_spec\u001b[0m\u001b[0;34m\u001b[0m\u001b[0m\n",
      "\u001b[0;32m/usr/local/lib/python3.5/dist-packages/tensorflow/python/framework/device.py\u001b[0m in \u001b[0;36mfrom_string\u001b[0;34m(spec)\u001b[0m\n\u001b[1;32m    230\u001b[0m       \u001b[0mA\u001b[0m \u001b[0mDeviceSpec\u001b[0m\u001b[0;34m.\u001b[0m\u001b[0;34m\u001b[0m\u001b[0m\n\u001b[1;32m    231\u001b[0m     \"\"\"\n\u001b[0;32m--> 232\u001b[0;31m     \u001b[0;32mreturn\u001b[0m \u001b[0mDeviceSpec\u001b[0m\u001b[0;34m(\u001b[0m\u001b[0;34m)\u001b[0m\u001b[0;34m.\u001b[0m\u001b[0mparse_from_string\u001b[0m\u001b[0;34m(\u001b[0m\u001b[0mspec\u001b[0m\u001b[0;34m)\u001b[0m\u001b[0;34m\u001b[0m\u001b[0m\n\u001b[0m\u001b[1;32m    233\u001b[0m \u001b[0;34m\u001b[0m\u001b[0m\n\u001b[1;32m    234\u001b[0m   \u001b[0;32mdef\u001b[0m \u001b[0m__eq__\u001b[0m\u001b[0;34m(\u001b[0m\u001b[0mself\u001b[0m\u001b[0;34m,\u001b[0m \u001b[0mother\u001b[0m\u001b[0;34m)\u001b[0m\u001b[0;34m:\u001b[0m\u001b[0;34m\u001b[0m\u001b[0m\n",
      "\u001b[0;32m/usr/local/lib/python3.5/dist-packages/tensorflow/python/framework/device.py\u001b[0m in \u001b[0;36mparse_from_string\u001b[0;34m(self, spec)\u001b[0m\n\u001b[1;32m    148\u001b[0m     \"\"\"\n\u001b[1;32m    149\u001b[0m     \u001b[0mself\u001b[0m\u001b[0;34m.\u001b[0m\u001b[0m_clear\u001b[0m\u001b[0;34m(\u001b[0m\u001b[0;34m)\u001b[0m\u001b[0;34m\u001b[0m\u001b[0m\n\u001b[0;32m--> 150\u001b[0;31m     \u001b[0msplits\u001b[0m \u001b[0;34m=\u001b[0m \u001b[0;34m[\u001b[0m\u001b[0mx\u001b[0m\u001b[0;34m.\u001b[0m\u001b[0msplit\u001b[0m\u001b[0;34m(\u001b[0m\u001b[0;34m\":\"\u001b[0m\u001b[0;34m)\u001b[0m \u001b[0;32mfor\u001b[0m \u001b[0mx\u001b[0m \u001b[0;32min\u001b[0m \u001b[0mspec\u001b[0m\u001b[0;34m.\u001b[0m\u001b[0msplit\u001b[0m\u001b[0;34m(\u001b[0m\u001b[0;34m\"/\"\u001b[0m\u001b[0;34m)\u001b[0m\u001b[0;34m]\u001b[0m\u001b[0;34m\u001b[0m\u001b[0m\n\u001b[0m\u001b[1;32m    151\u001b[0m     \u001b[0;32mfor\u001b[0m \u001b[0my\u001b[0m \u001b[0;32min\u001b[0m \u001b[0msplits\u001b[0m\u001b[0;34m:\u001b[0m\u001b[0;34m\u001b[0m\u001b[0m\n\u001b[1;32m    152\u001b[0m       \u001b[0mly\u001b[0m \u001b[0;34m=\u001b[0m \u001b[0mlen\u001b[0m\u001b[0;34m(\u001b[0m\u001b[0my\u001b[0m\u001b[0;34m)\u001b[0m\u001b[0;34m\u001b[0m\u001b[0m\n",
      "\u001b[0;31mAttributeError\u001b[0m: 'int' object has no attribute 'split'"
     ]
    }
   ],
   "source": [
    "# from t import device\n",
    "# tf.device\n",
    "import tensorflow as tf\n",
    "with tf.device(11040818267891171754):\n",
    "    print(1)"
   ]
  },
  {
   "cell_type": "code",
   "execution_count": null,
   "metadata": {},
   "outputs": [],
   "source": []
  }
 ],
 "metadata": {
  "kernelspec": {
   "display_name": "Python 3",
   "language": "python",
   "name": "python3"
  },
  "language_info": {
   "codemirror_mode": {
    "name": "ipython",
    "version": 3
   },
   "file_extension": ".py",
   "mimetype": "text/x-python",
   "name": "python",
   "nbconvert_exporter": "python",
   "pygments_lexer": "ipython3",
   "version": "3.5.2"
  }
 },
 "nbformat": 4,
 "nbformat_minor": 2
}

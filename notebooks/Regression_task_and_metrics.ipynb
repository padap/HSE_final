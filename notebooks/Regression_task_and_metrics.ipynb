{
 "cells": [
  {
   "cell_type": "code",
   "execution_count": 10,
   "metadata": {},
   "outputs": [],
   "source": [
    "import pandas as pd\n",
    "import numpy as np\n",
    "from keras.layers import Dense\n",
    "from keras import optimizers\n",
    "from keras import backend as K\n",
    "from keras.models import Sequential, Model\n",
    "from keras.layers import Input, Convolution2D, MaxPooling2D, Dense, Dropout, Activation, Flatten, merge\n",
    "from keras.layers.normalization import BatchNormalization\n",
    "from keras.layers.advanced_activations import ELU"
   ]
  },
  {
   "cell_type": "code",
   "execution_count": 16,
   "metadata": {},
   "outputs": [],
   "source": [
    "X_train = pd.read_csv('~/HSE_final/table/df_train.csv')\n",
    "X_test = pd.read_csv('~/HSE_final/table/df_test.csv')\n"
   ]
  },
  {
   "cell_type": "code",
   "execution_count": 17,
   "metadata": {},
   "outputs": [],
   "source": [
    "audio_features = list(filter(lambda x:'audio' in x, X_train.keys()))\n",
    "video_features = list(filter(lambda x:'video' in x, X_train.keys()))"
   ]
  },
  {
   "cell_type": "code",
   "execution_count": 22,
   "metadata": {},
   "outputs": [],
   "source": [
    "np.random.seed(7)\n",
    "\n",
    "\n",
    "input_shape = len(video_features)\n",
    "output_shape = len(audio_features)"
   ]
  },
  {
   "cell_type": "code",
   "execution_count": 295,
   "metadata": {},
   "outputs": [],
   "source": [
    "model = Sequential()\n",
    "model.add(Dense(2048, input_dim=input_shape, activation='relu'))\n",
    "model.add(Dense(1024, activation='relu'))\n",
    "model.add(Dense(512, activation='relu'))\n",
    "model.add(Dense(output_shape, activation='relu'))\n",
    "model.compile(loss='mse', optimizer='adam', metrics=['mse'])"
   ]
  },
  {
   "cell_type": "code",
   "execution_count": 8,
   "metadata": {},
   "outputs": [
    {
     "data": {
      "text/plain": [
       "array([ 0.89230126,  1.3941371 ,  0.98579913,  3.3361974 ,  2.195557  ,\n",
       "        1.2530414 ,  0.9644252 , -0.42607063,  0.07474762, -0.50830185,\n",
       "        0.18461438, -0.54767144,  0.03506276,  1.5943651 ,  1.8742266 ,\n",
       "        0.84579873,  0.98255867, -0.27253973,  1.1689572 ,  1.0686231 ,\n",
       "       -0.31171483, -0.08976948,  0.3814678 ,  0.7107428 ,  1.7990501 ,\n",
       "        0.4920289 ,  3.6200342 ,  1.6878151 , -0.4945829 ,  0.18900318,\n",
       "        2.0780978 ,  0.63692766, -0.45794052,  0.96197575,  0.26320785,\n",
       "        2.6664755 ,  0.8380283 ,  3.5701902 , -0.6933936 , -0.43079978,\n",
       "        1.2593828 ,  1.2588835 , -0.10282874,  1.0288118 ,  0.16230603,\n",
       "        2.6510189 ,  0.8377318 , -0.31826973,  2.390283  , -0.450553  ,\n",
       "       -0.24515873,  0.11350711, -0.12951404,  1.7678665 , -0.22886193,\n",
       "        1.4979788 ,  2.7479937 ,  0.5739461 ,  1.8715106 ,  0.4987691 ,\n",
       "        0.34426972, -0.18837082,  2.7177382 ,  2.9614282 , -0.43611145,\n",
       "        3.47021   , -0.6807986 , -0.12234706,  1.136799  ,  1.3252025 ,\n",
       "       -0.35792977,  1.9400479 ,  1.5921673 ,  1.7478863 ,  0.14719518,\n",
       "        0.22753204,  0.9251597 ,  1.5671617 ,  1.14349   , -0.23663127,\n",
       "        1.5082018 , -0.19593388, -0.70919305,  0.02167716,  0.45323727,\n",
       "        0.9439847 , -0.10557133,  0.3654972 ,  0.60998285,  0.34624085,\n",
       "        1.7964823 , -0.03009236,  2.328246  , -0.04816747, -0.6383071 ,\n",
       "        2.108779  ,  1.8005432 ,  1.6325282 ,  0.5776938 ,  1.3732802 ,\n",
       "       -0.52668405,  0.56068164,  1.4795661 ,  0.08171038,  1.772145  ,\n",
       "        1.9983037 ,  0.8256778 , -0.41959256, -0.38101226,  1.7814122 ,\n",
       "        0.5720481 ,  0.02535563, -0.374709  ,  1.9167931 , -0.5082501 ,\n",
       "        0.9572213 ,  2.8920896 ,  1.1379403 ,  0.681555  ,  1.0026021 ,\n",
       "        1.606106  ,  0.7353237 ,  1.2712003 ,  0.75379527,  1.205496  ,\n",
       "        0.58323073,  1.3065966 , -0.6333548 ,  1.0577166 ,  0.5125209 ,\n",
       "       -0.27713287,  1.6046222 ,  2.7457926 , -0.03321499,  2.1681476 ,\n",
       "       -0.04711974,  1.2873108 , -0.0977397 , -0.16790569, -0.40967977,\n",
       "        0.89312506, -0.5687651 , -0.03826016, -0.55074906,  0.30082208,\n",
       "        0.44732976,  3.219639  ,  0.6764036 ,  0.6111688 ,  1.7589672 ,\n",
       "        0.35059932,  1.553039  ,  0.0495192 ,  1.313904  ,  1.5332578 ,\n",
       "        0.5450017 ,  0.10127244,  0.29778904,  1.0707577 ,  2.9955933 ,\n",
       "       -0.48321098,  2.5588472 , -0.29289144,  2.1966953 , -0.5459825 ,\n",
       "        3.1340096 ,  0.09143788, -0.3389513 ,  1.0084307 , -0.09658968,\n",
       "        0.21662909,  0.12458237,  0.44628155,  0.97630566,  1.2503916 ,\n",
       "        0.02132599,  0.4312534 ,  0.13245724,  1.0880053 ,  0.19604257,\n",
       "        0.60762995,  0.6293605 ,  0.90689373,  0.79774106,  0.04496337,\n",
       "       -0.2484501 ,  2.4895518 , -0.47497416,  0.7717396 , -0.44947845,\n",
       "        2.378584  ,  2.241485  ,  0.8053643 ,  2.6183147 ,  0.50404274,\n",
       "       -0.51596546,  0.17773758,  0.86839527, -0.27953303,  0.67831683,\n",
       "        1.6922835 ,  2.0287845 ,  1.3653356 ,  0.8734587 ,  0.40326035,\n",
       "       -0.29603755,  0.7680088 ,  1.2305971 , -0.20392752,  0.6024094 ,\n",
       "        0.6748807 ,  0.38286886, -0.6892935 , -0.5373935 , -0.6032058 ,\n",
       "        0.21147978,  0.7098097 ,  0.26434487,  0.01997637,  0.73509175,\n",
       "        0.06454291,  1.5408497 ,  1.3729211 ,  0.6762213 ,  1.909242  ,\n",
       "        0.27355525, -0.6415983 , -0.6738963 ,  1.0958706 ,  0.01216578,\n",
       "        0.52395576,  2.1072097 , -0.6827167 , -0.18539512,  2.3626745 ,\n",
       "        1.6597751 ,  1.1260406 ,  1.2214534 ,  0.3077904 , -0.5205077 ,\n",
       "        0.5306365 , -0.26966524,  0.5757166 ,  0.9991818 ,  3.7156627 ,\n",
       "        2.241075  ,  1.1005354 , -0.566797  ,  0.8127571 ,  0.89980733,\n",
       "        0.72404325,  1.7631828 ,  0.7038033 , -0.13708055,  0.26894525,\n",
       "        1.8768035 , -0.710349  , -0.5912615 ,  0.5772553 ,  3.3912368 ,\n",
       "       -0.34432423,  0.03811042, -0.5669658 ,  0.16833758,  0.87839437,\n",
       "       -0.30442774, -0.594236  ,  0.24314049, -0.15550458,  1.2251502 ,\n",
       "        1.5547986 ,  0.79014444,  1.6036689 ,  0.39911357,  2.0232613 ,\n",
       "        0.85139084, -0.14913768, -0.03293848,  1.2693263 ,  0.8577471 ,\n",
       "        2.3503642 ,  0.53894556,  3.5818615 ,  1.1849946 , -0.65132624,\n",
       "       -0.33515304,  4.1159067 ,  2.7087324 , -0.1537742 , -0.6566207 ,\n",
       "       -0.4105894 ,  4.331853  ,  1.0621568 ,  4.0491757 ,  0.56968147,\n",
       "       -0.745619  ,  0.4025479 ,  2.4755101 , -0.23371148,  2.510774  ,\n",
       "       -0.7862495 ,  2.8010707 ,  1.6437641 ,  1.8688706 ,  1.7369196 ,\n",
       "       -0.13539326, -0.5558361 , -0.30373418, -0.5622133 ,  1.4622446 ,\n",
       "        0.7384452 , -0.34063745,  3.0293257 , -0.14902115, -0.84565413,\n",
       "        0.6157941 , -0.1736545 , -0.03383952,  2.9439416 ,  2.9613075 ,\n",
       "        0.48580503,  3.8991508 ,  0.73551625, -0.10191917,  1.0255568 ,\n",
       "        2.2493496 ,  0.39203137,  2.1837914 ,  2.287904  ,  1.7432206 ,\n",
       "       -0.1930654 ,  1.203885  ,  2.0317748 ,  1.3503706 , -0.00824285,\n",
       "        0.9105053 ,  1.2988601 , -0.71442974,  0.98365897, -0.35898256,\n",
       "        0.9940886 ,  0.29583204,  0.5074323 ,  0.16671443, -0.49875778,\n",
       "        1.0631431 ,  0.68347186,  0.02211836,  1.8008581 ,  0.81747216,\n",
       "        0.3130381 ,  2.4431698 ,  1.7124307 ,  1.47862   , -0.2950362 ,\n",
       "        1.1302135 ,  0.88853306,  0.2947306 ,  0.7593398 ,  1.5911255 ,\n",
       "        0.65445405,  0.99669665,  0.3436307 ,  0.30978516, -0.6188974 ,\n",
       "        2.154756  ,  1.2759969 , -0.09429914, -0.7737204 ,  1.1100441 ,\n",
       "       -0.25612128,  1.0327525 ,  1.4427478 ,  1.309936  ,  1.8608333 ,\n",
       "        1.5032355 ,  1.111122  ,  1.7041749 ,  0.6349502 ,  1.6548151 ,\n",
       "        1.1678306 ,  1.077734  ,  0.4447587 ,  0.60929894, -0.70042974,\n",
       "       -0.13078666,  1.3827754 ,  4.1602054 , -0.37220585,  0.89764005,\n",
       "       -0.7804106 ,  0.09305155, -0.7742177 , -0.5185219 , -0.01363993,\n",
       "       -0.14369577, -0.312203  ,  1.5148807 ,  2.1212456 ,  1.1881157 ,\n",
       "        1.288448  , -0.01387137,  0.7352452 ,  0.94353807,  0.04673029,\n",
       "       -0.61628246,  0.39257482,  0.31811243,  1.653805  , -0.6955536 ,\n",
       "        4.4536915 ,  2.0839167 , -0.62799585, -0.07153952,  3.56168   ,\n",
       "       -0.24999732, -0.06154412, -0.8035642 , -0.11245602,  3.8155198 ,\n",
       "        1.5574903 ,  4.416383  ,  0.17465556, -0.6259552 ,  1.0610181 ,\n",
       "        1.6859198 , -0.31744444,  2.3250308 , -0.68611133,  2.9832313 ,\n",
       "        0.96991223, -0.2246368 ,  2.357702  , -0.43926752, -0.7496489 ,\n",
       "       -0.13978726, -0.21301103,  1.6971753 ,  0.32568872, -0.6203663 ,\n",
       "        3.17784   , -0.01512265, -0.8239912 ,  0.8542071 ,  0.27033257,\n",
       "        0.04396024,  3.254992  ,  3.3932736 , -0.41897625,  3.989721  ,\n",
       "       -0.44397384, -0.1996051 ,  1.5703888 ,  2.0231752 ,  0.1659688 ,\n",
       "        2.521729  ,  1.2989513 ,  2.1070678 , -0.76526976, -0.12145787,\n",
       "        2.0870757 ,  1.5824789 ,  0.5558358 , -0.63134074,  1.5421734 ,\n",
       "       -0.757465  ,  0.10536276, -0.16876191,  0.7917103 , -0.07250243,\n",
       "       -0.03932726,  0.66913426, -0.77667487, -0.14229584,  1.3732578 ,\n",
       "       -0.29063964,  2.581386  , -0.6137949 , -0.8166586 ,  2.423548  ,\n",
       "        2.2760327 ,  2.2150335 ,  0.27116382,  1.6749713 ,  0.5413316 ,\n",
       "        0.80591977,  1.5737021 ,  0.8003588 ,  1.8013206 ,  1.1613847 ,\n",
       "       -0.19065398, -0.6097063 , -0.83541864,  2.525957  ,  1.5753335 ,\n",
       "        0.3267655 , -0.66926676,  2.0217378 , -0.27772492,  1.1831399 ,\n",
       "        0.6005978 , -0.76071256,  1.6737522 ,  1.4100426 ,  0.8180617 ,\n",
       "        1.7627671 , -0.04825652, -0.4108922 ,  1.495787  ,  1.0158446 ,\n",
       "        0.26386842, -0.827471  ], dtype=float32)"
      ]
     },
     "execution_count": 8,
     "metadata": {},
     "output_type": "execute_result"
    }
   ],
   "source": [
    "res[1]"
   ]
  },
  {
   "cell_type": "code",
   "execution_count": 297,
   "metadata": {},
   "outputs": [],
   "source": [
    "X = X_train[video_features].get_values()\n",
    "y = X_train[audio_features].get_values()\n"
   ]
  },
  {
   "cell_type": "code",
   "execution_count": 298,
   "metadata": {},
   "outputs": [
    {
     "name": "stdout",
     "output_type": "stream",
     "text": [
      "Epoch 1/30\n",
      "21965/21965 [==============================] - 35s 2ms/step - loss: 0.4639 - mean_squared_error: 0.4639\n",
      "Epoch 2/30\n",
      "21965/21965 [==============================] - 34s 2ms/step - loss: 0.4033 - mean_squared_error: 0.4033\n",
      "Epoch 3/30\n",
      "21965/21965 [==============================] - 33s 2ms/step - loss: 0.3643 - mean_squared_error: 0.3643\n",
      "Epoch 4/30\n",
      "21965/21965 [==============================] - 33s 2ms/step - loss: 0.3404 - mean_squared_error: 0.3404\n",
      "Epoch 5/30\n",
      "21965/21965 [==============================] - 33s 2ms/step - loss: 0.3185 - mean_squared_error: 0.3185\n",
      "Epoch 6/30\n",
      "21965/21965 [==============================] - 35s 2ms/step - loss: 0.3079 - mean_squared_error: 0.3079\n",
      "Epoch 7/30\n",
      "21965/21965 [==============================] - 35s 2ms/step - loss: 0.2976 - mean_squared_error: 0.2976\n",
      "Epoch 8/30\n",
      "21965/21965 [==============================] - 35s 2ms/step - loss: 0.2897 - mean_squared_error: 0.2897\n",
      "Epoch 9/30\n",
      "21965/21965 [==============================] - 35s 2ms/step - loss: 0.2789 - mean_squared_error: 0.2789\n",
      "Epoch 10/30\n",
      "21965/21965 [==============================] - 35s 2ms/step - loss: 0.2715 - mean_squared_error: 0.2715\n",
      "Epoch 11/30\n",
      "21965/21965 [==============================] - 35s 2ms/step - loss: 0.2662 - mean_squared_error: 0.2662\n",
      "Epoch 12/30\n",
      "21965/21965 [==============================] - 35s 2ms/step - loss: 0.2608 - mean_squared_error: 0.2608\n",
      "Epoch 13/30\n",
      "21965/21965 [==============================] - 35s 2ms/step - loss: 0.2539 - mean_squared_error: 0.2539\n",
      "Epoch 14/30\n",
      "21965/21965 [==============================] - 35s 2ms/step - loss: 0.2478 - mean_squared_error: 0.2478\n",
      "Epoch 15/30\n",
      "21965/21965 [==============================] - 36s 2ms/step - loss: 0.2436 - mean_squared_error: 0.2436\n",
      "Epoch 16/30\n",
      "21965/21965 [==============================] - 35s 2ms/step - loss: 0.2395 - mean_squared_error: 0.2395\n",
      "Epoch 17/30\n",
      "21965/21965 [==============================] - 34s 2ms/step - loss: 0.2356 - mean_squared_error: 0.2356\n",
      "Epoch 18/30\n",
      "21965/21965 [==============================] - 34s 2ms/step - loss: 0.2321 - mean_squared_error: 0.2321\n",
      "Epoch 19/30\n",
      "21965/21965 [==============================] - 34s 2ms/step - loss: 0.2271 - mean_squared_error: 0.2271\n",
      "Epoch 20/30\n",
      "21965/21965 [==============================] - 34s 2ms/step - loss: 0.2224 - mean_squared_error: 0.2224\n",
      "Epoch 21/30\n",
      "21965/21965 [==============================] - 35s 2ms/step - loss: 0.2190 - mean_squared_error: 0.2190\n",
      "Epoch 22/30\n",
      "21965/21965 [==============================] - 35s 2ms/step - loss: 0.2158 - mean_squared_error: 0.2158 1s - los\n",
      "Epoch 23/30\n",
      "21965/21965 [==============================] - 35s 2ms/step - loss: 0.2131 - mean_squared_error: 0.2131\n",
      "Epoch 24/30\n",
      "21965/21965 [==============================] - 35s 2ms/step - loss: 0.2102 - mean_squared_error: 0.2102\n",
      "Epoch 25/30\n",
      "21965/21965 [==============================] - 34s 2ms/step - loss: 0.2072 - mean_squared_error: 0.2072\n",
      "Epoch 26/30\n",
      "21965/21965 [==============================] - 34s 2ms/step - loss: 0.2051 - mean_squared_error: 0.2051\n",
      "Epoch 27/30\n",
      "21965/21965 [==============================] - 34s 2ms/step - loss: 0.2024 - mean_squared_error: 0.2024\n",
      "Epoch 28/30\n",
      "21965/21965 [==============================] - 35s 2ms/step - loss: 0.1998 - mean_squared_error: 0.1998\n",
      "Epoch 29/30\n",
      "21965/21965 [==============================] - 35s 2ms/step - loss: 0.1976 - mean_squared_error: 0.1976\n",
      "Epoch 30/30\n",
      "21965/21965 [==============================] - 35s 2ms/step - loss: 0.1956 - mean_squared_error: 0.1956\n"
     ]
    },
    {
     "data": {
      "text/plain": [
       "<keras.callbacks.History at 0x7f8b36f9e780>"
      ]
     },
     "execution_count": 298,
     "metadata": {},
     "output_type": "execute_result"
    }
   ],
   "source": [
    "model.fit(X, y, batch_size=32, epochs=30)"
   ]
  },
  {
   "cell_type": "code",
   "execution_count": 299,
   "metadata": {},
   "outputs": [
    {
     "name": "stdout",
     "output_type": "stream",
     "text": [
      "_________________________________________________________________\n",
      "Layer (type)                 Output Shape              Param #   \n",
      "=================================================================\n",
      "dense_12 (Dense)             (None, 2048)              2050048   \n",
      "_________________________________________________________________\n",
      "dense_13 (Dense)             (None, 1024)              2098176   \n",
      "_________________________________________________________________\n",
      "dense_14 (Dense)             (None, 512)               524800    \n",
      "_________________________________________________________________\n",
      "dense_15 (Dense)             (None, 512)               262656    \n",
      "=================================================================\n",
      "Total params: 4,935,680\n",
      "Trainable params: 4,935,680\n",
      "Non-trainable params: 0\n",
      "_________________________________________________________________\n"
     ]
    }
   ],
   "source": [
    "model.summary()"
   ]
  },
  {
   "cell_type": "code",
   "execution_count": 300,
   "metadata": {},
   "outputs": [],
   "source": [
    "y_predict = model.predict(X_test[video_features].get_values())"
   ]
  },
  {
   "cell_type": "code",
   "execution_count": 301,
   "metadata": {},
   "outputs": [],
   "source": [
    "from sklearn.metrics.pairwise import cosine_distances"
   ]
  },
  {
   "cell_type": "code",
   "execution_count": 302,
   "metadata": {},
   "outputs": [
    {
     "data": {
      "text/plain": [
       "(7626, 512)"
      ]
     },
     "execution_count": 302,
     "metadata": {},
     "output_type": "execute_result"
    }
   ],
   "source": [
    "y_predict.shape"
   ]
  },
  {
   "cell_type": "code",
   "execution_count": 303,
   "metadata": {},
   "outputs": [],
   "source": [
    "list_features = ['ID'] + audio_features"
   ]
  },
  {
   "cell_type": "code",
   "execution_count": 304,
   "metadata": {},
   "outputs": [],
   "source": [
    "X_test_fixed = X_test[list_features]"
   ]
  },
  {
   "cell_type": "code",
   "execution_count": 305,
   "metadata": {},
   "outputs": [
    {
     "data": {
      "text/html": [
       "<div>\n",
       "<style scoped>\n",
       "    .dataframe tbody tr th:only-of-type {\n",
       "        vertical-align: middle;\n",
       "    }\n",
       "\n",
       "    .dataframe tbody tr th {\n",
       "        vertical-align: top;\n",
       "    }\n",
       "\n",
       "    .dataframe thead th {\n",
       "        text-align: right;\n",
       "    }\n",
       "</style>\n",
       "<table border=\"1\" class=\"dataframe\">\n",
       "  <thead>\n",
       "    <tr style=\"text-align: right;\">\n",
       "      <th></th>\n",
       "      <th>ID</th>\n",
       "      <th>audio_0</th>\n",
       "      <th>audio_1</th>\n",
       "      <th>audio_10</th>\n",
       "      <th>audio_100</th>\n",
       "      <th>audio_101</th>\n",
       "      <th>audio_102</th>\n",
       "      <th>audio_103</th>\n",
       "      <th>audio_104</th>\n",
       "      <th>audio_105</th>\n",
       "      <th>...</th>\n",
       "      <th>audio_90</th>\n",
       "      <th>audio_91</th>\n",
       "      <th>audio_92</th>\n",
       "      <th>audio_93</th>\n",
       "      <th>audio_94</th>\n",
       "      <th>audio_95</th>\n",
       "      <th>audio_96</th>\n",
       "      <th>audio_97</th>\n",
       "      <th>audio_98</th>\n",
       "      <th>audio_99</th>\n",
       "    </tr>\n",
       "  </thead>\n",
       "  <tbody>\n",
       "    <tr>\n",
       "      <th>0</th>\n",
       "      <td>MgHioCC3yCo</td>\n",
       "      <td>3.465994</td>\n",
       "      <td>5.485182</td>\n",
       "      <td>1.392198</td>\n",
       "      <td>2.075205</td>\n",
       "      <td>0.525350</td>\n",
       "      <td>0.507040</td>\n",
       "      <td>2.051694</td>\n",
       "      <td>-0.095109</td>\n",
       "      <td>-0.136603</td>\n",
       "      <td>...</td>\n",
       "      <td>-0.295202</td>\n",
       "      <td>2.284770</td>\n",
       "      <td>0.750015</td>\n",
       "      <td>4.624533</td>\n",
       "      <td>-0.345154</td>\n",
       "      <td>0.943214</td>\n",
       "      <td>1.127614</td>\n",
       "      <td>0.562000</td>\n",
       "      <td>1.844403</td>\n",
       "      <td>2.329274</td>\n",
       "    </tr>\n",
       "    <tr>\n",
       "      <th>1</th>\n",
       "      <td>MgHioCC3yCo</td>\n",
       "      <td>2.025639</td>\n",
       "      <td>-0.000835</td>\n",
       "      <td>-0.107687</td>\n",
       "      <td>2.771719</td>\n",
       "      <td>-0.002794</td>\n",
       "      <td>0.302232</td>\n",
       "      <td>1.310762</td>\n",
       "      <td>1.159659</td>\n",
       "      <td>0.797841</td>\n",
       "      <td>...</td>\n",
       "      <td>1.138866</td>\n",
       "      <td>1.755250</td>\n",
       "      <td>0.532314</td>\n",
       "      <td>1.272975</td>\n",
       "      <td>3.320303</td>\n",
       "      <td>1.685649</td>\n",
       "      <td>2.047887</td>\n",
       "      <td>0.694619</td>\n",
       "      <td>-0.220732</td>\n",
       "      <td>-0.401569</td>\n",
       "    </tr>\n",
       "    <tr>\n",
       "      <th>2</th>\n",
       "      <td>MgHioCC3yCo</td>\n",
       "      <td>0.641804</td>\n",
       "      <td>-0.073039</td>\n",
       "      <td>0.378311</td>\n",
       "      <td>0.106902</td>\n",
       "      <td>0.236905</td>\n",
       "      <td>0.780073</td>\n",
       "      <td>-0.287821</td>\n",
       "      <td>1.297422</td>\n",
       "      <td>1.995879</td>\n",
       "      <td>...</td>\n",
       "      <td>1.814272</td>\n",
       "      <td>0.650161</td>\n",
       "      <td>1.366028</td>\n",
       "      <td>-0.159636</td>\n",
       "      <td>0.158432</td>\n",
       "      <td>1.427510</td>\n",
       "      <td>2.037729</td>\n",
       "      <td>0.955185</td>\n",
       "      <td>0.665984</td>\n",
       "      <td>0.385377</td>\n",
       "    </tr>\n",
       "    <tr>\n",
       "      <th>3</th>\n",
       "      <td>MgHioCC3yCo</td>\n",
       "      <td>0.981787</td>\n",
       "      <td>-0.122698</td>\n",
       "      <td>0.505672</td>\n",
       "      <td>-0.271406</td>\n",
       "      <td>0.432142</td>\n",
       "      <td>0.388763</td>\n",
       "      <td>0.684052</td>\n",
       "      <td>0.117507</td>\n",
       "      <td>1.275299</td>\n",
       "      <td>...</td>\n",
       "      <td>1.364909</td>\n",
       "      <td>1.243732</td>\n",
       "      <td>0.844132</td>\n",
       "      <td>0.533207</td>\n",
       "      <td>0.617010</td>\n",
       "      <td>1.568594</td>\n",
       "      <td>2.970192</td>\n",
       "      <td>1.120759</td>\n",
       "      <td>0.112360</td>\n",
       "      <td>-0.278555</td>\n",
       "    </tr>\n",
       "    <tr>\n",
       "      <th>4</th>\n",
       "      <td>MgHioCC3yCo</td>\n",
       "      <td>0.878753</td>\n",
       "      <td>0.750289</td>\n",
       "      <td>0.569910</td>\n",
       "      <td>0.186085</td>\n",
       "      <td>0.435217</td>\n",
       "      <td>0.875443</td>\n",
       "      <td>0.170807</td>\n",
       "      <td>0.834477</td>\n",
       "      <td>1.350631</td>\n",
       "      <td>...</td>\n",
       "      <td>1.760716</td>\n",
       "      <td>0.520016</td>\n",
       "      <td>1.068539</td>\n",
       "      <td>0.303000</td>\n",
       "      <td>-0.348881</td>\n",
       "      <td>0.282995</td>\n",
       "      <td>1.042602</td>\n",
       "      <td>0.589957</td>\n",
       "      <td>0.804173</td>\n",
       "      <td>0.063118</td>\n",
       "    </tr>\n",
       "  </tbody>\n",
       "</table>\n",
       "<p>5 rows × 513 columns</p>\n",
       "</div>"
      ],
      "text/plain": [
       "            ID   audio_0   audio_1  audio_10  audio_100  audio_101  audio_102  \\\n",
       "0  MgHioCC3yCo  3.465994  5.485182  1.392198   2.075205   0.525350   0.507040   \n",
       "1  MgHioCC3yCo  2.025639 -0.000835 -0.107687   2.771719  -0.002794   0.302232   \n",
       "2  MgHioCC3yCo  0.641804 -0.073039  0.378311   0.106902   0.236905   0.780073   \n",
       "3  MgHioCC3yCo  0.981787 -0.122698  0.505672  -0.271406   0.432142   0.388763   \n",
       "4  MgHioCC3yCo  0.878753  0.750289  0.569910   0.186085   0.435217   0.875443   \n",
       "\n",
       "   audio_103  audio_104  audio_105  ...  audio_90  audio_91  audio_92  \\\n",
       "0   2.051694  -0.095109  -0.136603  ... -0.295202  2.284770  0.750015   \n",
       "1   1.310762   1.159659   0.797841  ...  1.138866  1.755250  0.532314   \n",
       "2  -0.287821   1.297422   1.995879  ...  1.814272  0.650161  1.366028   \n",
       "3   0.684052   0.117507   1.275299  ...  1.364909  1.243732  0.844132   \n",
       "4   0.170807   0.834477   1.350631  ...  1.760716  0.520016  1.068539   \n",
       "\n",
       "   audio_93  audio_94  audio_95  audio_96  audio_97  audio_98  audio_99  \n",
       "0  4.624533 -0.345154  0.943214  1.127614  0.562000  1.844403  2.329274  \n",
       "1  1.272975  3.320303  1.685649  2.047887  0.694619 -0.220732 -0.401569  \n",
       "2 -0.159636  0.158432  1.427510  2.037729  0.955185  0.665984  0.385377  \n",
       "3  0.533207  0.617010  1.568594  2.970192  1.120759  0.112360 -0.278555  \n",
       "4  0.303000 -0.348881  0.282995  1.042602  0.589957  0.804173  0.063118  \n",
       "\n",
       "[5 rows x 513 columns]"
      ]
     },
     "execution_count": 305,
     "metadata": {},
     "output_type": "execute_result"
    }
   ],
   "source": [
    "X_test_fixed.head()"
   ]
  },
  {
   "cell_type": "code",
   "execution_count": 306,
   "metadata": {},
   "outputs": [],
   "source": [
    "dictionary = cosine_distances(y_predict, X_test_fixed[audio_features])"
   ]
  },
  {
   "cell_type": "code",
   "execution_count": 307,
   "metadata": {},
   "outputs": [
    {
     "data": {
      "text/plain": [
       "0.46523048120152777"
      ]
     },
     "execution_count": 307,
     "metadata": {},
     "output_type": "execute_result"
    }
   ],
   "source": [
    "dictionary[0][1]"
   ]
  },
  {
   "cell_type": "code",
   "execution_count": 308,
   "metadata": {},
   "outputs": [
    {
     "data": {
      "text/plain": [
       "0.43416451252132227"
      ]
     },
     "execution_count": 308,
     "metadata": {},
     "output_type": "execute_result"
    }
   ],
   "source": [
    "dictionary[1][0]"
   ]
  },
  {
   "cell_type": "code",
   "execution_count": 309,
   "metadata": {},
   "outputs": [],
   "source": [
    "from tqdm import tqdm_notebook"
   ]
  },
  {
   "cell_type": "code",
   "execution_count": 310,
   "metadata": {},
   "outputs": [],
   "source": [
    "dick = {}"
   ]
  },
  {
   "cell_type": "code",
   "execution_count": 311,
   "metadata": {},
   "outputs": [],
   "source": [
    "for index, row in X_test_fixed.iterrows():\n",
    "    dick[index]  = str(row['ID'])"
   ]
  },
  {
   "cell_type": "code",
   "execution_count": 312,
   "metadata": {},
   "outputs": [],
   "source": [
    "res = []"
   ]
  },
  {
   "cell_type": "code",
   "execution_count": 313,
   "metadata": {},
   "outputs": [
    {
     "data": {
      "application/vnd.jupyter.widget-view+json": {
       "model_id": "ae4096568de4497497b590b3a16492a6",
       "version_major": 2,
       "version_minor": 0
      },
      "text/plain": [
       "HBox(children=(IntProgress(value=0, max=7626), HTML(value='')))"
      ]
     },
     "metadata": {},
     "output_type": "display_data"
    }
   ],
   "source": [
    "for i in tqdm_notebook(range(len(dictionary))):\n",
    "    f = dictionary[i]\n",
    "    l = sorted(range(len(f)), key=lambda k: f[k], reverse = True)\n",
    "    res.append(l)"
   ]
  },
  {
   "cell_type": "code",
   "execution_count": 314,
   "metadata": {},
   "outputs": [],
   "source": [
    "similarity_list = []"
   ]
  },
  {
   "cell_type": "code",
   "execution_count": 315,
   "metadata": {},
   "outputs": [],
   "source": [
    "from collections import OrderedDict"
   ]
  },
  {
   "cell_type": "code",
   "execution_count": 316,
   "metadata": {},
   "outputs": [
    {
     "data": {
      "application/vnd.jupyter.widget-view+json": {
       "model_id": "1a36f0e0e7cf4d748e9d86882483e0f2",
       "version_major": 2,
       "version_minor": 0
      },
      "text/plain": [
       "HBox(children=(IntProgress(value=0, max=7626), HTML(value='')))"
      ]
     },
     "metadata": {},
     "output_type": "display_data"
    }
   ],
   "source": [
    "for i in tqdm_notebook(range(len(res))):\n",
    "    d = res[i].copy()\n",
    "    for i in range(len(d)):\n",
    "        d[i] = dick[d[i]]\n",
    "    similarity_list.append(list(OrderedDict.fromkeys(d)))"
   ]
  },
  {
   "cell_type": "code",
   "execution_count": 317,
   "metadata": {},
   "outputs": [
    {
     "data": {
      "text/plain": [
       "64"
      ]
     },
     "execution_count": 317,
     "metadata": {},
     "output_type": "execute_result"
    }
   ],
   "source": [
    "len(similarity_list[111])"
   ]
  },
  {
   "cell_type": "code",
   "execution_count": 318,
   "metadata": {},
   "outputs": [],
   "source": [
    "s = X_test_fixed['ID'].values"
   ]
  },
  {
   "cell_type": "code",
   "execution_count": 319,
   "metadata": {},
   "outputs": [],
   "source": [
    "import numpy as np\n",
    "\n",
    "def apk(actual, predicted, k=10):\n",
    "    \"\"\"\n",
    "    Computes the average precision at k.\n",
    "    This function computes the average prescision at k between two lists of\n",
    "    items.\n",
    "    Parameters\n",
    "    ----------\n",
    "    actual : list\n",
    "             A list of elements that are to be predicted (order doesn't matter)\n",
    "    predicted : list\n",
    "                A list of predicted elements (order does matter)\n",
    "    k : int, optional\n",
    "        The maximum number of predicted elements\n",
    "    Returns\n",
    "    -------\n",
    "    score : double\n",
    "            The average precision at k over the input lists\n",
    "    \"\"\"\n",
    "\n",
    "    if actual in predicted[:k + 1]:\n",
    "        return 1\n",
    "    else:\n",
    "        return 0\n",
    "\n",
    "def mapk(actual, predicted, k=10):\n",
    "    \"\"\"\n",
    "    Computes the mean average precision at k.\n",
    "    This function computes the mean average prescision at k between two lists\n",
    "    of lists of items.\n",
    "    Parameters\n",
    "    ----------\n",
    "    actual : list\n",
    "             A list of lists of elements that are to be predicted \n",
    "             (order doesn't matter in the lists)\n",
    "    predicted : list\n",
    "                A list of lists of predicted elements\n",
    "                (order matters in the lists)\n",
    "    k : int, optional\n",
    "        The maximum number of predicted elements\n",
    "    Returns\n",
    "    -------\n",
    "    score : double\n",
    "            The mean average precision at k over the input lists\n",
    "    \"\"\"\n",
    "    return np.mean([apk(a,p,k) for a,p in zip(actual, predicted)])"
   ]
  },
  {
   "cell_type": "code",
   "execution_count": null,
   "metadata": {},
   "outputs": [],
   "source": [
    "k_accuracy = {}"
   ]
  },
  {
   "cell_type": "code",
   "execution_count": 325,
   "metadata": {},
   "outputs": [
    {
     "data": {
      "application/vnd.jupyter.widget-view+json": {
       "model_id": "4a03bffa39ca472a83b5ba021ef2ee40",
       "version_major": 2,
       "version_minor": 0
      },
      "text/plain": [
       "HBox(children=(IntProgress(value=0, max=64), HTML(value='')))"
      ]
     },
     "metadata": {},
     "output_type": "display_data"
    }
   ],
   "source": [
    "for i in tqdm_notebook(range(64)):\n",
    "    k_accuracy[i + 1] = mapk(s, similarity_list, k = i)"
   ]
  },
  {
   "cell_type": "code",
   "execution_count": 327,
   "metadata": {},
   "outputs": [
    {
     "data": {
      "image/png": "[encoded data removed]",
      "text/plain": [
       "<Figure size 1440x720 with 1 Axes>"
      ]
     },
     "metadata": {
      "needs_background": "light"
     },
     "output_type": "display_data"
    }
   ],
   "source": [
    "import matplotlib.pylab as plt\n",
    "\n",
    "lists = sorted(k_accuracy.items()) # sorted by key, return a list of tuples\n",
    "\n",
    "x, y = zip(*lists) # unpack a list of pairs into two tuples\n",
    "plt.figure(figsize = (20, 10))\n",
    "plt.xlabel('Top K', fontsize = 16)\n",
    "plt.ylabel('Accuracy', fontsize = 16)\n",
    "plt.title('Accuracy@k', fontsize = 20)\n",
    "plt.plot(x, y, label = 'prediction')\n",
    "plt.plot([0, 64], [0, 1], '--', color = 'black', label = 'random')\n",
    "plt.legend(fontsize=16)\n",
    "plt.show()"
   ]
  },
  {
   "cell_type": "code",
   "execution_count": 328,
   "metadata": {},
   "outputs": [
    {
     "data": {
      "image/png": "[encoded data removed]",
      "text/plain": [
       "<Figure size 1440x720 with 1 Axes>"
      ]
     },
     "metadata": {
      "needs_background": "light"
     },
     "output_type": "display_data"
    }
   ],
   "source": [
    "import matplotlib.pylab as plt\n",
    "\n",
    "lists = sorted(k_accuracy.items()) # sorted by key, return a list of tuples\n",
    "\n",
    "x, y = zip(*lists) # unpack a list of pairs into two tuples\n",
    "plt.figure(figsize = (20, 10))\n",
    "plt.xlabel('Top K', fontsize = 16)\n",
    "plt.ylabel('Accuracy', fontsize = 16)\n",
    "plt.title('Accuracy@k', fontsize = 22)\n",
    "plt.plot(x, y, label = 'prediction')\n",
    "plt.plot([0, 64], [0, 1], '--', color = 'black', label = 'random')\n",
    "plt.xlim(0, 3)\n",
    "plt.ylim(0, 0.2)\n",
    "plt.legend(fontsize=16)\n",
    "plt.plot([1,1], [0, 0.2], '-.', color = 'grey')\n",
    "plt.plot([0,10], [y[0], y[0]], '-.', color = 'grey')\n",
    "plt.show()"
   ]
  },
  {
   "cell_type": "code",
   "execution_count": null,
   "metadata": {},
   "outputs": [],
   "source": []
  }
 ],
 "metadata": {
  "kernelspec": {
   "display_name": "Python 3",
   "language": "python",
   "name": "python3"
  },
  "language_info": {
   "codemirror_mode": {
    "name": "ipython",
    "version": 3
   },
   "file_extension": ".py",
   "mimetype": "text/x-python",
   "name": "python",
   "nbconvert_exporter": "python",
   "pygments_lexer": "ipython3",
   "version": "3.5.2"
  }
 },
 "nbformat": 4,
 "nbformat_minor": 2
}
